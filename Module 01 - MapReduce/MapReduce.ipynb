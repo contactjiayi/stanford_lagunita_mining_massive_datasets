{
 "cells": [
  {
   "cell_type": "markdown",
   "metadata": {},
   "source": [
    "### Module 1: MapReduce\n",
    "\n",
    "Suppose our input data to a map-reduce operation consists of integer values (the keys are not important). The map function takes an integer i and produces the list of pairs (p,i) such that p is a prime divisor of i. For example, map(12) = [(2,12),(3,12)].\n",
    "\n",
    "The reduce function is addition. That is, reduce(p,[i1,i2,...,ik]) is (p,i1+i2+...+ik).\n",
    "\n",
    "Compute the output, if the input is the set of integers 15, 21, 24, 30, 49. Then, identify, in the list below, one of the pairs in the output."
   ]
  },
  {
   "cell_type": "code",
   "execution_count": 17,
   "metadata": {},
   "outputs": [],
   "source": [
    "def prime_factors(n):\n",
    "    factors = []\n",
    "    f = 2\n",
    "    while f ** 2 <= n:\n",
    "        while (n % f) == 0:\n",
    "            factors.append(f)\n",
    "            n //= f\n",
    "        f += 1\n",
    "    if n > 1:\n",
    "        factors.append(n)\n",
    "    return set(factors)"
   ]
  },
  {
   "cell_type": "code",
   "execution_count": 19,
   "metadata": {},
   "outputs": [],
   "source": [
    "def map(n):\n",
    "    return [(f, n) for f in sorted(prime_factors(n))]"
   ]
  },
  {
   "cell_type": "code",
   "execution_count": 21,
   "metadata": {},
   "outputs": [],
   "source": [
    "def reduce(prime_factor, integers):\n",
    "    sum = 0\n",
    "    for n in integers:\n",
    "        for (p, i) in map(n):\n",
    "            if p == prime_factor:\n",
    "                sum += n\n",
    "    return sum"
   ]
  },
  {
   "cell_type": "code",
   "execution_count": 24,
   "metadata": {},
   "outputs": [
    {
     "name": "stdout",
     "output_type": "stream",
     "text": [
      "3 90\n",
      "5 45\n",
      "7 70\n"
     ]
    }
   ],
   "source": [
    "integers = [15, 21, 24, 30, 49]\n",
    "for pf in [3, 5, 7]:\n",
    "    print(pf, reduce(pf, integers))"
   ]
  }
 ],
 "metadata": {
  "kernelspec": {
   "display_name": "Python 3",
   "language": "python",
   "name": "python3"
  },
  "language_info": {
   "codemirror_mode": {
    "name": "ipython",
    "version": 3
   },
   "file_extension": ".py",
   "mimetype": "text/x-python",
   "name": "python",
   "nbconvert_exporter": "python",
   "pygments_lexer": "ipython3",
   "version": "3.6.5"
  }
 },
 "nbformat": 4,
 "nbformat_minor": 2
}
