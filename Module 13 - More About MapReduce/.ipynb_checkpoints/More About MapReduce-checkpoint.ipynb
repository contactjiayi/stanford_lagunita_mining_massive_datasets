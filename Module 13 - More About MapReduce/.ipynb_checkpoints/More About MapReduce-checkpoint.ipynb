{
 "cells": [
  {
   "cell_type": "markdown",
   "metadata": {},
   "source": [
    "### Module 13: More About MapReduce"
   ]
  },
  {
   "cell_type": "markdown",
   "metadata": {},
   "source": [
    "Using the matrix-vector multiplication described in Section 2.3.1, applied to the matrix and vector:"
   ]
  },
  {
   "cell_type": "code",
   "execution_count": 1,
   "metadata": {},
   "outputs": [
    {
     "data": {
      "image/png": "[encoded data removed]",
      "text/plain": [
       "<IPython.core.display.Image object>"
      ]
     },
     "execution_count": 1,
     "metadata": {},
     "output_type": "execute_result"
    }
   ],
   "source": [
    "from IPython.display import Image\n",
    "Image(filename='multiplication.png')"
   ]
  },
  {
   "cell_type": "markdown",
   "metadata": {},
   "source": [
    "Apply the Map function to this matrix and vector."
   ]
  },
  {
   "cell_type": "code",
   "execution_count": 8,
   "metadata": {},
   "outputs": [
    {
     "name": "stdout",
     "output_type": "stream",
     "text": [
      "(1, 1)\n",
      "(1, 4)\n",
      "(1, 9)\n",
      "(1, 16)\n",
      "(2, 5)\n",
      "(2, 12)\n",
      "(2, 21)\n",
      "(2, 32)\n",
      "(3, 9)\n",
      "(3, 20)\n",
      "(3, 33)\n",
      "(3, 48)\n",
      "(4, 13)\n",
      "(4, 28)\n",
      "(4, 45)\n",
      "(4, 64)\n"
     ]
    }
   ],
   "source": [
    "import numpy as np\n",
    "\n",
    "matrix = np.array([[ 1,  2,  3,  4],\n",
    "                   [ 5,  6,  7,  8],\n",
    "                   [ 9, 10, 11, 12],\n",
    "                   [13, 14, 15, 16]])\n",
    "\n",
    "vector = np.array([1, 2, 3, 4]).T\n",
    "\n",
    "def map(i, j, element, vector):\n",
    "    return (i + 1Suppose we have the following relations:, element * vector[j])\n",
    "\n",
    "for i, row in enumerate(matrix):\n",
    "    for j, element in enumerate(row):\n",
    "        output = map(i, j, element, vector)\n",
    "        print(output)"
   ]
  },
  {
   "cell_type": "markdown",
   "metadata": {},
   "source": [
    "Suppose we have the following relations:"
   ]
  },
  {
   "cell_type": "code",
   "execution_count": 9,
   "metadata": {},
   "outputs": [
    {
     "data": {
      "image/png": "[encoded data removed]",
      "text/plain": [
       "<IPython.core.display.Image object>"
      ]
     },
     "execution_count": 9,
     "metadata": {},
     "output_type": "execute_result"
    }
   ],
   "source": [
    "Image(filename='relations.png')"
   ]
  },
  {
   "cell_type": "markdown",
   "metadata": {},
   "source": [
    "And we take their natural join by the algorithm of Section 2.3.7. Apply the Map function to the tuples of these relations. Then, construct the elements that are input to the Reduce function."
   ]
  },
  {
   "cell_type": "code",
   "execution_count": 13,
   "metadata": {},
   "outputs": [
    {
     "name": "stdout",
     "output_type": "stream",
     "text": [
      "Key: 1, Values: [('R', 0), ('S', 2)]\n",
      "Key: 2, Values: [('R', 1), ('S', 3)]\n",
      "Key: 3, Values: [('R', 2)]\n",
      "Key: 0, Values: [('S', 1)]\n"
     ]
    }
   ],
   "source": [
    "from collections import defaultdict\n",
    "\n",
    "R = S = [(0, 1),\n",
    "         (1, 2),\n",
    "         (2, 3)]\n",
    "\n",
    "def map(relation_name, components):\n",
    "    if relation_name == 'R':\n",
    "        c1, c2 = components\n",
    "    elif relation_name == 'S':\n",
    "        c2, c1 = components\n",
    "    else:\n",
    "        raise ValueError\n",
    "    return (c2, (relation_name, c1))\n",
    "\n",
    "reducer_input = defaultdict(list)\n",
    "\n",
    "for row in R:\n",
    "    output = map('R', row)\n",
    "    reducer_input[output[0]].append(output[1])\n",
    "for row in S:\n",
    "    output = map('S', row)\n",
    "    reducer_input[output[0]].append(output[1])\n",
    "\n",
    "for key, values in reducer_input.items():\n",
    "    print('Key: {}, Values: {}'.format(key, values))"
   ]
  },
  {
   "cell_type": "markdown",
   "metadata": {},
   "source": [
    "Suppose we use the two-stage algorithm of Section 2.3.9 to compute the product of matrices M and N. Let M have x rows and y columns, while N has y rows and z columns. As a function of x, y, and z, express the answers to the following questions:\n",
    "\n",
    "1. The output of the first Map function has how many different keys? How many key-value pairs are there with each key? How many key-value pairs are there in all?\n",
    "2. The output of the first Reduce function has how many keys? What is the length of the value (a list) associated with each key?\n",
    "3. The output of the second Map function has how many different keys? How many key-value pairs are there with each key? How many key-value pairs are there in all?"
   ]
  },
  {
   "cell_type": "code",
   "execution_count": null,
   "metadata": {},
   "outputs": [],
   "source": [
    "# 1a) The first Map function produces the key-value pair (j, (M, i, m_ij))\n",
    "# for each matrix element m_ij in M. Likewise, it produces the key-value pair\n",
    "# (j, (N, k, n_jk)) for each matrix element n_jk in N.\n",
    "# Since matrix M has y columns and matrix N has y rows, there are y keys.\n",
    "\n",
    "# 1b) Matrix M has x rows, so there are x elements in each column j.\n",
    "# Matrix N has z columns, so there are z elements in each row j.\n",
    "# Therefore there are (x+z) key-value pairs for each key j.\n",
    "\n",
    "# 1c) There are y(x+z) key-value pairs in all.\n",
    "\n",
    "# 2a) The first Reduce function examines the list of values associated with a key j.\n",
    "# For each value that comes from M (M, i, m_ij) and each value that comes from N (N, k, n_jk),\n",
    "# it produces a key-value pair with key (i, k) and value m_ij * n_jk.\n",
    "# There are x rows in matrix M and z columns in matrix N, so the output has xz keys.\n",
    "\n",
    "# 2b) The length of the value is 1, since it is just the product m_ij * n_jk.\n",
    "\n",
    "# 3a) The second Map function is just the identity; it produces the key-value pair (i, k)\n",
    "# for each input element with key (i, k). Therefore there are xz keys.\n",
    "\n",
    "# 3b) Each key is associated with y key-value pairs.\n",
    "\n",
    "# 3c) There are xyz key-value pairs in all."
   ]
  },
  {
   "cell_type": "markdown",
   "metadata": {},
   "source": [
    "Suppose we use the one-stage algorithm of Section 2.3.10 to compute the product of matrices M and N. Let M have x rows and y columns, while N has y rows and z columns. As a function of x, y, and z, express the answers to the following questions:\n",
    "\n",
    "1. The output of the Map function has how many different keys? How many key-value pairs are there with each key? How many key-value pairs are there in all?\n",
    "2. The input to the Reduce function has how many keys? What is the length of the value (a list) associated with each key?"
   ]
  },
  {
   "cell_type": "code",
   "execution_count": null,
   "metadata": {},
   "outputs": [],
   "source": [
    "# 1a) The Map function produces all the key-value pairs ((i, k), (M, j, m_ij))\n",
    "# for k up to the number of columns of N. \n",
    "# Similarly, it produces all the key-value pairs ((i, k), (N, j, n_jk))\n",
    "# for i up to the number of rows of M.\n",
    "# Since there are x rows in matrix M and z columns in matrix N, there are xz different keys.\n",
    "\n",
    "# 1b) There are y columns in matrix M and y rows in matrix N, so there are y pairs for each key.\n",
    "\n",
    "# 1c) Each of the xy elements of matrix M is mapped to z different key-value pairs.\n",
    "# Each of the yz elements of matrix N is mapped to x different key-value pairs.\n",
    "# Hence, there are 2xyz key-value pairs in all.\n",
    "\n",
    "# 2a) The input to the Reduce function is the output of the Map function, so there are xz keys.\n",
    "\n",
    "# 2b) There are 2xyz / xz = 2y values associated with each key."
   ]
  }
 ],
 "metadata": {
  "kernelspec": {
   "display_name": "Python 3",
   "language": "python",
   "name": "python3"
  },
  "language_info": {
   "codemirror_mode": {
    "name": "ipython",
    "version": 3
   },
   "file_extension": ".py",
   "mimetype": "text/x-python",
   "name": "python",
   "nbconvert_exporter": "python",
   "pygments_lexer": "ipython3",
   "version": "3.6.5"
  }
 },
 "nbformat": 4,
 "nbformat_minor": 2
}
