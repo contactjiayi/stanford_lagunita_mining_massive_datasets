{
 "cells": [
  {
   "cell_type": "markdown",
   "metadata": {},
   "source": [
    "### Module 7: Stream Algorithms"
   ]
  },
  {
   "cell_type": "markdown",
   "metadata": {},
   "source": [
    "We wish to estimate the surprise number (2nd moment) of a data stream, using the method of AMS. It happens that our stream consists of ten different values, which we'll call 1, 2,..., 10, that cycle repeatedly. That is, at timestamps 1 through 10, the element of the stream equals the timestamp, at timestamps 11 through 20, the element is the timestamp minus 10, and so on. It is now timestamp 75, and a 5 has just been read from the stream. As a start, you should calculate the surprise number for this time.\n",
    "\n",
    "For our estimate of the surprise number, we shall choose three timestamps at random, and estimate the surprise number from each, using the AMS approach (length of the stream times 2m-1, where m is the number of occurrences of the element of the stream at that timestamp, considering all times from that timestamp on, to the current time). Then, our estimate will be the median of the three resulting values.\n",
    "\n",
    "You should discover the simple rules that determine the estimate derived from any given timestamp and from any set of three timestamps."
   ]
  },
  {
   "cell_type": "code",
   "execution_count": 19,
   "metadata": {},
   "outputs": [
    {
     "name": "stdout",
     "output_type": "stream",
     "text": [
      "Surprise Number: 565\n",
      "Est. Surprise Number with variables at 25, 34, 47 timestamps: 675\n",
      "Est. Surprise Number with variables at 22, 42, 62 timestamps: 525\n",
      "Est. Surprise Number with variables at 30, 47, 62 timestamps: 375\n",
      "Est. Surprise Number with variables at 31, 48, 50 timestamps: 375\n"
     ]
    }
   ],
   "source": [
    "from collections import Counter\n",
    "from itertools import cycle\n",
    "import random\n",
    "from statistics import median\n",
    "\n",
    "source = cycle(range(1, 11))\n",
    "stream = [next(source) for n in range(0, 75)]\n",
    "\n",
    "def surprise_number(stream):\n",
    "    counter = Counter(stream)\n",
    "    return sum(count ** 2 for (element, count) in counter.items())\n",
    "    \n",
    "def estimate_surprise_number(stream, timestamps):\n",
    "    estimates = []\n",
    "    for ts in timestamps:\n",
    "        element = stream[ts - 1]\n",
    "        count = stream[ts - 1:].count(element)\n",
    "        estimate = len(stream) * (2 * count - 1)\n",
    "        estimates.append(estimate)\n",
    "    return median(estimates)\n",
    "\n",
    "variables = [(25, 34, 47),\n",
    "             (22, 42, 62),\n",
    "             (30, 47, 62),\n",
    "             (31, 48, 50)]\n",
    "\n",
    "print('Surprise Number: {}'.format(surprise_number(stream)))\n",
    "    \n",
    "for timestamps in variables:\n",
    "    print('Est. Surprise Number with variables at {}, {}, {} timestamps: {}'.format(\n",
    "        *timestamps,\n",
    "        estimate_surprise_number(stream, timestamps),\n",
    "    ))\n"
   ]
  },
  {
   "cell_type": "markdown",
   "metadata": {},
   "source": [
    "Suppose we are using the DGIM algorithm of Section 4.6.2 to estimate the number of 1's in suffixes of a sliding window of length 40. The current timestamp is 100, and we have the following buckets stored:"
   ]
  },
  {
   "cell_type": "code",
   "execution_count": 21,
   "metadata": {},
   "outputs": [
    {
     "data": {
      "image/png": "[encoded data removed]",
      "text/plain": [
       "<IPython.core.display.Image object>"
      ]
     },
     "execution_count": 21,
     "metadata": {},
     "output_type": "execute_result"
    }
   ],
   "source": [
    "from IPython.display import Image\n",
    "Image(filename='buckets.png')"
   ]
  },
  {
   "cell_type": "markdown",
   "metadata": {},
   "source": [
    "Note: we are showing timestamps as absolute values, rather than modulo the window size, as DGIM would do.\n",
    "\n",
    "Suppose that at times 101 through 105, 1's appear in the stream. Compute the set of buckets that would exist in the system at time 105."
   ]
  },
  {
   "cell_type": "code",
   "execution_count": 50,
   "metadata": {},
   "outputs": [
    {
     "name": "stdout",
     "output_type": "stream",
     "text": [
      "Buckets at time 100: [(100, 1), (98, 1), (95, 2), (92, 2), (87, 4), (80, 8), (65, 8)]\n",
      "Buckets at time 101: [(101, 1), (100, 2), (95, 4), (87, 4), (80, 8), (65, 8)]\n",
      "Buckets at time 102: [(102, 1), (101, 1), (100, 2), (95, 4), (87, 4), (80, 8), (65, 8)]\n",
      "Buckets at time 103: [(103, 1), (102, 2), (100, 2), (95, 4), (87, 4), (80, 8), (65, 8)]\n",
      "Buckets at time 104: [(104, 1), (103, 1), (102, 2), (100, 2), (95, 4), (87, 4), (80, 8), (65, 8)]\n",
      "Buckets at time 105: [(105, 1), (104, 2), (102, 4), (95, 8), (80, 16)]\n"
     ]
    }
   ],
   "source": [
    "buckets = [(100, 1),\n",
    "           ( 98, 1),\n",
    "           ( 95, 2),\n",
    "           ( 92, 2),\n",
    "           ( 87, 4),\n",
    "           ( 80, 8),\n",
    "           ( 65, 8)]\n",
    "\n",
    "def merge_buckets(buckets, *args):\n",
    "    b1, b2 = args\n",
    "    later_timestamp = max([b1[0], b2[0]])\n",
    "    total_count = b1[1] + b2[1]\n",
    "    merged_bucket = (later_timestamp, total_count)\n",
    "    b1_index = buckets.index(b1)\n",
    "    b2_index = buckets.index(b2)\n",
    "    start = min(b1_index, b2_index)\n",
    "    end = max(b1_index, b2_index)\n",
    "    return buckets[:start] + [merged_bucket] + buckets[end + 1:]\n",
    "\n",
    "def get_counter(buckets):\n",
    "    sizes = [b[1] for b in buckets]\n",
    "    return Counter(sizes)\n",
    "\n",
    "def merge_complete(counter):\n",
    "    return all([count <= 2 for size, count in counter.items()])\n",
    "\n",
    "def cascade_merge(buckets):\n",
    "    counter = get_counter(buckets)\n",
    "    done = merge_complete(counter)\n",
    "    while not done:\n",
    "        for size, count in counter.items():\n",
    "            if count > 2:\n",
    "                too_many_buckets = [b for b in buckets if b[1] == size]\n",
    "                # merge the 2 earliest buckets\n",
    "                buckets_to_merge = sorted(too_many_buckets, key=lambda b: b[1])[-2:]\n",
    "                buckets = merge_buckets(buckets, *buckets_to_merge)\n",
    "                counter = get_counter(buckets)\n",
    "                done = merge_complete(counter)\n",
    "    return buckets\n",
    "\n",
    "print('Buckets at time 100: {}'.format(buckets))\n",
    "\n",
    "for idx, el in enumerate('11111'):\n",
    "    buckets.insert(0, (100 + idx + 1, int(el)))\n",
    "    buckets = cascade_merge(buckets)\n",
    "    print('Buckets at time {}: {}'.format(100 + idx + 1, buckets))    "
   ]
  },
  {
   "cell_type": "markdown",
   "metadata": {},
   "source": [
    "We wish to use the Flagolet-Martin algorithm of Section 4.4 to count the number of distinct elements in a stream. Suppose that there are ten possible elements, 1, 2,..., 10, that could appear in the stream, but only four of them have actually appeared. To make our estimate of the count of distinct elements, we hash each element to a 4-bit binary number. The element x is hashed to 3x + 7 (modulo 11). For example, element 8 hashes to 3*8+7 = 31, which is 9 modulo 11 (i.e., the remainder of 31/11 is 9). Thus, the 4-bit string for element 8 is 1001.\n",
    "\n",
    "A set of four of the elements 1 through 10 could give an estimate that is exact (if the estimate is 4), or too high, or too low. You should figure out under what circumstances a set of four elements falls into each of those categories."
   ]
  },
  {
   "cell_type": "code",
   "execution_count": 61,
   "metadata": {},
   "outputs": [
    {
     "name": "stdout",
     "output_type": "stream",
     "text": [
      "Estimate for elements (4, 5, 6, 10): 16\n",
      "Estimate for elements (1, 5, 8, 9): 16\n",
      "Estimate for elements (2, 6, 8, 10): 4\n",
      "Estimate for elements (2, 6, 8, 9): 2\n"
     ]
    }
   ],
   "source": [
    "possible_elements = range(1, 11)\n",
    "\n",
    "element_sets = [(4, 5, 6, 10),\n",
    "                (1, 5, 8,  9),\n",
    "                (2, 6, 8, 10),\n",
    "                (2, 6, 8,  9)]\n",
    "\n",
    "def hash_function(x):\n",
    "    number = (3 * x + 7) % 11\n",
    "    return format(number, '04b')\n",
    "    \n",
    "for elements in element_sets:\n",
    "    hashes = []\n",
    "    for el in elements:\n",
    "        hashes.append(hash_function(el))\n",
    "    max_trailing_zeroes = max([len(h) - len(h.rstrip('0')) for h in hashes])\n",
    "    print('Estimate for elements {}: {}'.format(elements, 2 ** max_trailing_zeroes))"
   ]
  },
  {
   "cell_type": "markdown",
   "metadata": {},
   "source": [
    "A certain Web mail service (like gmail, e.g.) has 10^8 users, and wishes to create a sample of data about these users, occupying 10^10 bytes. Activity at the service can be viewed as a stream of elements, each of which is an email. The element contains the ID of the sender, which must be one of the 10^8 users of the service, and other information, e.g., the recipient(s), and contents of the message. The plan is to pick a subset of the users and collect in the 10^10 bytes records of length 100 bytes about every email sent by the users in the selected set (and nothing about other users).\n",
    "\n",
    "The method of Section 4.2.4 will be used. User ID's will be hashed to a bucket number, from 0 to 999,999. At all times, there will be a threshold t such that the 100-byte records for all the users whose ID's hash to t or less will be retained, and other users' records will not be retained. You may assume that each user generates emails at exactly the same rate as other users. As a function of n, the number of emails in the stream so far, what should the threshold t be in order that the selected records will not exceed the 10^10 bytes available to store records? From the list below, identify the true statement about a value of n and its value of t."
   ]
  },
  {
   "cell_type": "code",
   "execution_count": 67,
   "metadata": {},
   "outputs": [
    {
     "name": "stdout",
     "output_type": "stream",
     "text": [
      "Emails: 1e+12, threshold: 999, appropriate threshold: 99.0\n",
      "Emails: 1e+09, threshold: 999, appropriate threshold: 99999.0\n",
      "Emails: 1e+11, threshold: 999, appropriate threshold: 999.0\n",
      "Emails: 1e+14, threshold: 1, appropriate threshold: 0.0\n"
     ]
    }
   ],
   "source": [
    "storage_space = 10 ** 10\n",
    "email_size = 100\n",
    "\n",
    "variable_sets = [(10 ** 12, 999),\n",
    "                 (10 **  9, 999),\n",
    "                 (10 ** 11, 999),\n",
    "                 (10 ** 14,   1)]\n",
    "\n",
    "for num_emails, threshold in variable_sets:\n",
    "    total_size = num_emails * email_size\n",
    "    fraction = storage_space / total_size\n",
    "    appropriate_threshold = fraction * 10**6 - 1\n",
    "    print('Emails: {}, threshold: {}, appropriate threshold: {}'.format(\n",
    "        '{:.0e}'.format(num_emails),\n",
    "        threshold,\n",
    "        appropriate_threshold,\n",
    "    ))"
   ]
  },
  {
   "cell_type": "markdown",
   "metadata": {},
   "source": [
    "Suppose we hash the elements of a set S having 23 members, to a bit array of length 100. The array is initially all-0's, and we set a bit to 1 whenever a member of S hashes to it. The hash function is random and uniform in its distribution. What is the expected fraction of 0's in the array after hashing? What is the expected fraction of 1's? You may assume that 100 is large enough that asymptotic limits are reached."
   ]
  },
  {
   "cell_type": "code",
   "execution_count": 73,
   "metadata": {},
   "outputs": [
    {
     "name": "stdout",
     "output_type": "stream",
     "text": [
      "Expected fraction of 0s: 0.79\n",
      "Expected fraction of 1s: 0.21\n"
     ]
    }
   ],
   "source": [
    "import numpy as np\n",
    "\n",
    "num_elements = 23\n",
    "bit_array_length = 100\n",
    "\n",
    "fraction_0s = np.exp(-23/100)\n",
    "fraction_1s = 1 - fraction_0s\n",
    "\n",
    "print('Expected fraction of 0s: {:.2}'.format(fraction_0s))\n",
    "print('Expected fraction of 1s: {:.2}'.format(fraction_1s))"
   ]
  }
 ],
 "metadata": {
  "kernelspec": {
   "display_name": "Python 3",
   "language": "python",
   "name": "python3"
  },
  "language_info": {
   "codemirror_mode": {
    "name": "ipython",
    "version": 3
   },
   "file_extension": ".py",
   "mimetype": "text/x-python",
   "name": "python",
   "nbconvert_exporter": "python",
   "pygments_lexer": "ipython3",
   "version": "3.6.5"
  }
 },
 "nbformat": 4,
 "nbformat_minor": 2
}
