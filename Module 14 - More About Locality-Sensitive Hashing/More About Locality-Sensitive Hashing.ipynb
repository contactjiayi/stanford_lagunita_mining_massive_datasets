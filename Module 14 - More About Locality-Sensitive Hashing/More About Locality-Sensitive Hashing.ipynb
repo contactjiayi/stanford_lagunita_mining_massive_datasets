{
 "cells": [
  {
   "cell_type": "markdown",
   "metadata": {},
   "source": [
    "### Module 14: More About Locality-Sensitive Hashing"
   ]
  },
  {
   "cell_type": "markdown",
   "metadata": {},
   "source": [
    "Consider the following three vectors u, v, w in a 6-dimensional space:\n",
    "- u = [1, 0.25, 0, 0, 0.5, 0] \n",
    "- v = [0.75, 0, 0, 0.2, 0.4, 0] \n",
    "- w = [0, 0.1, 0.75, 0, 0, 1]\n",
    "\n",
    "Suppose we construct 3-bit sketches of the vectors by the random hyperplane method, using the randomly generated normal vectors r1, r2, and r3, in that order:\n",
    "- r1 = [1, -1, 1, -1, 1, -1] \n",
    "- r2 = [-1, -1, 1, 1, -1, 1] \n",
    "- r3 = [1, 1, 1, 1, 1, 1]\n",
    "\n",
    "Construct the sketches of the three vectors u, v, w. Estimate the pairwise cosine similarities of u, v, and w from their 3-bit sketches. "
   ]
  },
  {
   "cell_type": "code",
   "execution_count": 2,
   "metadata": {},
   "outputs": [
    {
     "name": "stdout",
     "output_type": "stream",
     "text": [
      "Estimated cosine similarity between u and v: 1.0\n",
      "Estimated cosine similarity between u and w: -0.5\n",
      "Estimated cosine similarity between v and w: -0.5\n"
     ]
    }
   ],
   "source": [
    "import numpy as np\n",
    "\n",
    "LABELS = ['u', 'v', 'w']\n",
    "\n",
    "vectors = np.array([[   1, 0.25,    0,   0, 0.5, 0],\n",
    "                    [0.75,    0,    0, 0.2, 0.4, 0],\n",
    "                    [0,     0.1, 0.75,   0,   0, 1]])\n",
    "\n",
    "random_vectors = np.array([[ 1, -1, 1, -1,  1, -1],\n",
    "                           [-1, -1, 1,  1, -1,  1],\n",
    "                           [ 1,  1, 1,  1,  1,  1]])\n",
    "\n",
    "sketches = vectors @ random_vectors.T\n",
    "sketches[sketches >= 0] = 1\n",
    "sketches[sketches < 0] = -1\n",
    "\n",
    "for i in range(0, len(sketches)):\n",
    "    for j in range(i + 1, len(sketches)):\n",
    "        sketch1 = sketches[i]\n",
    "        sketch2 = sketches[j]\n",
    "        p_agree = sum([1 for k in range(0, 3) if sketch1[k] == sketch2[k]]) / 3\n",
    "        angle = 180 - 180 * p_agree\n",
    "        # np.cos takes angles in radians as input\n",
    "        cos_sim = np.cos(np.deg2rad(angle))\n",
    "        print('Estimated cosine similarity between {} and {}: {:.2}'.format(\n",
    "            LABELS[i],\n",
    "            LABELS[j],\n",
    "            cos_sim,\n",
    "        ))"
   ]
  },
  {
   "cell_type": "markdown",
   "metadata": {},
   "source": [
    "Suppose we have an LSH family h of (d1,d2,.6,.4) hash functions. We can use three functions from h and the AND-construction to form a (d1,d2,w,x) family, and we can use two functions from h and the OR-construction to form a (d1,d2,y,z) family. Calculate w, x, y, and z."
   ]
  },
  {
   "cell_type": "code",
   "execution_count": 22,
   "metadata": {},
   "outputs": [
    {
     "name": "stdout",
     "output_type": "stream",
     "text": [
      "w: 0.216\n",
      "x: 0.064\n",
      "y: 0.84\n",
      "z: 0.64\n"
     ]
    }
   ],
   "source": [
    "p1 = 0.6\n",
    "p2 = 0.4\n",
    "\n",
    "def AND(p, n):\n",
    "    return p ** n\n",
    "\n",
    "def OR(p, n):\n",
    "    return 1 - (1 - p) ** n\n",
    "\n",
    "print('w: {:.3}'.format(AND(p1, 3)))\n",
    "print('x: {:.3}'.format(AND(p2, 3)))\n",
    "print('y: {:.3}'.format(OR(p1, 2)))\n",
    "print('z: {:.3}'.format(OR(p2, 2)))"
   ]
  },
  {
   "cell_type": "markdown",
   "metadata": {},
   "source": [
    "This question and the next are based on the following eight strings that represent sets:\n",
    "- s1 = abcef\n",
    "- s2 = acdeg\n",
    "- s3 = bcdefg\n",
    "- s4 = adfg\n",
    "- s5 = bcdfgh\n",
    "- s6 = bceg\n",
    "- s7 = cdfg\n",
    "- s8 = abcd\n",
    "\n",
    "Suppose our upper limit on Jaccard distance is 0.2, and we use the indexing scheme of Section 3.9.4 based on symbols appearing in the prefix (no position or length information). For each of s1, s3, and s6, determine how many other strings that string will be compared with, if it is used as the probe string. "
   ]
  },
  {
   "cell_type": "code",
   "execution_count": 39,
   "metadata": {},
   "outputs": [
    {
     "name": "stdout",
     "output_type": "stream",
     "text": [
      "Probe string abcef will be compared with 6 other strings.\n",
      "Probe string bcdefg will be compared with 5 other strings.\n",
      "Probe string bceg will be compared with 3 other strings.\n"
     ]
    }
   ],
   "source": [
    "from collections import defaultdict\n",
    "\n",
    "JACCARD_LIMIT = 0.2\n",
    "JACCARD_SIM = 1 - JACCARD_LIMIT\n",
    "\n",
    "strings = ['abcef',\n",
    "           'acdeg',\n",
    "           'bcdefg',\n",
    "           'adfg',\n",
    "           'bcdfgh',\n",
    "           'bceg',\n",
    "           'cdfg',\n",
    "           'abcd']\n",
    "\n",
    "probe_strings = [strings[0], strings[2], strings[5]]\n",
    "\n",
    "def prefix_length(string):\n",
    "    # the length of the prefix is the floor of J*L + 1\n",
    "    return int(np.floor(JACCARD_LIMIT * len(string) + 1))\n",
    "\n",
    "def get_prefix(string):\n",
    "    num = prefix_length(string)\n",
    "    return string[:num]\n",
    "\n",
    "index_buckets = defaultdict(list)\n",
    "\n",
    "for string in strings:\n",
    "    prefix = get_prefix(string)\n",
    "    for char in prefix:\n",
    "        index_buckets[char].append(string)\n",
    "\n",
    "for probe in probe_strings:\n",
    "    prefix = get_prefix(probe)\n",
    "    strings_to_compare = []\n",
    "    for char in prefix:\n",
    "        strings_to_compare.extend(index_buckets[char])\n",
    "    strings_to_compare = set(strings_to_compare)\n",
    "    strings_to_compare.remove(probe)\n",
    "    print('Probe string {} will be compared with {} other strings.'.format(\n",
    "        probe,\n",
    "        len(strings_to_compare),\n",
    "    ))"
   ]
  },
  {
   "cell_type": "markdown",
   "metadata": {},
   "source": [
    "Suppose that we have the same 8 strings from Question 3, our upper limit on Jaccard distance is again 0.2, but now we use the indexing scheme of Section 3.9.5 based on symbols appearing in the prefix and the positions of those symbols (no length information). For each of s2, s5, and s7, determine how many other strings that string will be compared with, if it is used as the probe string."
   ]
  },
  {
   "cell_type": "code",
   "execution_count": 42,
   "metadata": {},
   "outputs": [
    {
     "name": "stdout",
     "output_type": "stream",
     "text": [
      "Probe string acdeg will be compared with 4 other strings.\n",
      "Probe string bcdfgh will be compared with 4 other strings.\n",
      "Probe string cdfg will be compared with 3 other strings.\n"
     ]
    }
   ],
   "source": [
    "probe_strings = [strings[1], strings[4], strings[6]]\n",
    "\n",
    "def get_bucket_keys(string, char, pos):\n",
    "    max_index = int(np.floor(\n",
    "        (JACCARD_LIMIT * len(string) - pos + 1 + JACCARD_SIM) / JACCARD_SIM\n",
    "    ))\n",
    "    return [(char, idx) for idx in range(1, max_index + 1)]\n",
    "\n",
    "index_buckets = defaultdict(list)\n",
    "\n",
    "for string in strings:\n",
    "    prefix = get_prefix(string)\n",
    "    for idx, char in enumerate(prefix):\n",
    "        index_buckets[(char, idx + 1)].append(string)\n",
    "\n",
    "for probe in probe_strings:\n",
    "    prefix = get_prefix(probe)\n",
    "    strings_to_compare = []\n",
    "    for idx, char in enumerate(prefix):\n",
    "        bucket_keys = get_bucket_keys(probe, char, idx + 1)\n",
    "        for key in bucket_keys:\n",
    "            strings_to_compare.extend(index_buckets[key])\n",
    "    strings_to_compare = set(strings_to_compare)\n",
    "    strings_to_compare.remove(probe)\n",
    "    print('Probe string {} will be compared with {} other strings.'.format(\n",
    "        probe,\n",
    "        len(strings_to_compare),\n",
    "    ))"
   ]
  }
 ],
 "metadata": {
  "kernelspec": {
   "display_name": "Python 3",
   "language": "python",
   "name": "python3"
  },
  "language_info": {
   "codemirror_mode": {
    "name": "ipython",
    "version": 3
   },
   "file_extension": ".py",
   "mimetype": "text/x-python",
   "name": "python",
   "nbconvert_exporter": "python",
   "pygments_lexer": "ipython3",
   "version": "3.6.5"
  }
 },
 "nbformat": 4,
 "nbformat_minor": 2
}
