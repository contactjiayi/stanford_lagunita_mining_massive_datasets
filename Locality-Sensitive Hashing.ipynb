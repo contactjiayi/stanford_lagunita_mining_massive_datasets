{
 "cells": [
  {
   "cell_type": "markdown",
   "metadata": {},
   "source": [
    "### Module 3: Locality-Sensitive Hashing\n",
    "\n",
    "Here is a matrix representing the signatures of seven columns, C1 through C7."
   ]
  },
  {
   "cell_type": "code",
   "execution_count": 1,
   "metadata": {},
   "outputs": [
    {
     "data": {
      "image/png": "[encoded data removed]",
      "text/plain": [
       "<IPython.core.display.Image object>"
      ]
     },
     "execution_count": 1,
     "metadata": {},
     "output_type": "execute_result"
    }
   ],
   "source": [
    "from IPython.display import Image\n",
    "Image(filename='matrix1.png')"
   ]
  },
  {
   "cell_type": "markdown",
   "metadata": {},
   "source": [
    "Suppose we use locality-sensitive hashing with three bands of two rows each. Assume there are enough buckets available that the hash function for each band can be the identity function (i.e., columns hash to the same bucket if and only if they are identical in the band). Find all the candidate pairs."
   ]
  },
  {
   "cell_type": "code",
   "execution_count": 2,
   "metadata": {},
   "outputs": [
    {
     "name": "stdout",
     "output_type": "stream",
     "text": [
      "['C1 & C4', 'C2 & C5', 'C1 & C6', 'C1 & C3', 'C4 & C7']\n"
     ]
    }
   ],
   "source": [
    "import numpy as np\n",
    "\n",
    "matrix = np.array([[1, 2, 1, 1, 2, 5, 4],\n",
    "                   [2, 3, 4, 2, 3, 2, 2],\n",
    "                   [3, 1, 2, 3, 1, 3, 2],\n",
    "                   [4, 1, 3, 1, 2, 4, 4],\n",
    "                   [5, 2, 5, 1, 1, 5, 1],\n",
    "                   [6, 1, 6, 4, 1, 1, 4]])\n",
    "\n",
    "num_rows, num_cols = matrix.shape\n",
    "bands = np.split(matrix, 3)\n",
    "\n",
    "candidate_pairs = []\n",
    "\n",
    "for band in bands:\n",
    "    signature_fragments = np.split(band, num_cols, axis=1)\n",
    "    for i in range(0, num_cols):\n",
    "        for j in range(i+1, num_cols):\n",
    "            fragment1 = signature_fragments[i]\n",
    "            fragment2 = signature_fragments[j]\n",
    "            if np.array_equal(fragment1, fragment2):\n",
    "                candidate_pairs.append('C{} & C{}'.format(i+1, j+1))\n",
    "\n",
    "print(candidate_pairs)"
   ]
  },
  {
   "cell_type": "markdown",
   "metadata": {},
   "source": [
    "Suppose we have computed signatures for a number of columns, and each signature consists of 24 integers, arranged as a column of 24 rows. There are N pairs of signatures that are 50% similar (i.e., they agree in half of the rows). There are M pairs that are 20% similar, and all other pairs (an unknown number) are 0% similar.\n",
    "\n",
    "We can try to find 50%-similar pairs by using Locality-Sensitive Hashing (LSH), and we can do so by choosing bands of 1, 2, 3, 4, 6, 8, 12, or 24 rows. Calculate approximately, in terms of N and M, the number of false positives and the number of false negatives, for each choice for the number of rows. Then, suppose that we assign equal cost to false positives and false negatives (an atypical assumption). Which number of rows would you choose if M:N were in each of the following ratios: 1:1, 10:1, 100:1, and 1000:1?"
   ]
  },
  {
   "cell_type": "code",
   "execution_count": 11,
   "metadata": {},
   "outputs": [
    {
     "name": "stdout",
     "output_type": "stream",
     "text": [
      "ratio: 1:1, rows: 1, cost: 0.9952776931217752\n",
      "ratio: 1:1, rows: 2, cost: 0.4189665946943113\n",
      "ratio: 1:1, rows: 3, cost: 0.4058453029135014\n",
      "ratio: 1:1, rows: 4, cost: 0.688495838716443\n",
      "ratio: 1:1, rows: 6, cost: 0.9392056199906307\n",
      "ratio: 1:1, rows: 8, cost: 0.9883346467428819\n",
      "ratio: 1:1, rows: 12, cost: 0.9995117865466447\n",
      "ratio: 1:1, rows: 24, cost: 0.9999999403953552\n",
      "ratio: 10:1, rows: 1, cost: 0.9952776931217752\n",
      "ratio: 10:1, rows: 2, cost: 0.4189665946943113\n",
      "ratio: 10:1, rows: 3, cost: 0.4058453029135014\n",
      "ratio: 10:1, rows: 4, cost: 0.688495838716443\n",
      "ratio: 10:1, rows: 6, cost: 0.9392056199906307\n",
      "ratio: 10:1, rows: 8, cost: 0.9883346467428819\n",
      "ratio: 10:1, rows: 12, cost: 0.9995117865466447\n",
      "ratio: 10:1, rows: 24, cost: 0.9999999403953552\n",
      "ratio: 100:1, rows: 1, cost: 0.9952776931217752\n",
      "ratio: 100:1, rows: 2, cost: 0.4189665946943113\n",
      "ratio: 100:1, rows: 3, cost: 0.4058453029135014\n",
      "ratio: 100:1, rows: 4, cost: 0.688495838716443\n",
      "ratio: 100:1, rows: 6, cost: 0.9392056199906307\n",
      "ratio: 100:1, rows: 8, cost: 0.9883346467428819\n",
      "ratio: 100:1, rows: 12, cost: 0.9995117865466447\n",
      "ratio: 100:1, rows: 24, cost: 0.9999999403953552\n",
      "ratio: 1000:1, rows: 1, cost: 0.9952776931217752\n",
      "ratio: 1000:1, rows: 2, cost: 0.4189665946943113\n",
      "ratio: 1000:1, rows: 3, cost: 0.4058453029135014\n",
      "ratio: 1000:1, rows: 4, cost: 0.688495838716443\n",
      "ratio: 1000:1, rows: 6, cost: 0.9392056199906307\n",
      "ratio: 1000:1, rows: 8, cost: 0.9883346467428819\n",
      "ratio: 1000:1, rows: 12, cost: 0.9995117865466447\n",
      "ratio: 1000:1, rows: 24, cost: 0.9999999403953552\n"
     ]
    }
   ],
   "source": [
    "signature_length = 24\n",
    "band_sizes = [1, 2, 3, 4, 6, 8, 12, 24]\n",
    "ratios = [(1, 1), (10, 1), (100, 1), (1000, 1)]\n",
    "\n",
    "for M, N in ratios:\n",
    "    for num_rows in band_sizes:\n",
    "        num_bands = signature_length / num_rows\n",
    "        # 50% similar pairs don't match in any band\n",
    "        p_fn = (1 - 0.5 ** num_rows) ** num_bands\n",
    "        # 20% similar pairs match in at least 1 band\n",
    "        p_fp = 1 - (1 - 0.2 ** num_rows) ** num_bands\n",
    "        cost = p_fn + p_fp\n",
    "        print('ratio: {}:{}, rows: {}, cost: {}'.format(M, N, num_rows, cost))"
   ]
  },
  {
   "cell_type": "markdown",
   "metadata": {},
   "source": [
    "Find the set of 2-shingles for the \"document\" ABRACADABRA and also for the \"document\" BRICABRAC."
   ]
  },
  {
   "cell_type": "code",
   "execution_count": 4,
   "metadata": {},
   "outputs": [
    {
     "name": "stdout",
     "output_type": "stream",
     "text": [
      "No. of 2-shingles in ABRACADABRA: 7\n",
      "No. of 2-shingles in BRICABRAC: 7\n",
      "Jaccard similarity: 5/9\n"
     ]
    }
   ],
   "source": [
    "def shingles(document, size):\n",
    "    return {\n",
    "        document[i:i+size]\n",
    "        for i in range(len(document))\n",
    "        if i+size <= len(document)\n",
    "    }\n",
    "\n",
    "shingles1 = shingles('ABRACADABRA', 2)\n",
    "shingles2 = shingles('BRICABRAC', 2)\n",
    "common_shingles = shingles1.intersection(shingles2)\n",
    "total_shingles = shingles1.union(shingles2)\n",
    "jaccard = len(common_shingles) / len(total_shingles)\n",
    "\n",
    "print('No. of 2-shingles in ABRACADABRA: {}'.format(len(shingles1)))\n",
    "print('No. of 2-shingles in BRICABRAC: {}'.format(len(shingles2)))\n",
    "print('Jaccard similarity: {}/{}'.format(len(common_shingles), len(total_shingles)))"
   ]
  },
  {
   "cell_type": "markdown",
   "metadata": {},
   "source": [
    "Consider the following matrix:"
   ]
  },
  {
   "cell_type": "code",
   "execution_count": 5,
   "metadata": {},
   "outputs": [
    {
     "data": {
      "image/png": "[encoded data removed]",
      "text/plain": [
       "<IPython.core.display.Image object>"
      ]
     },
     "execution_count": 5,
     "metadata": {},
     "output_type": "execute_result"
    }
   ],
   "source": [
    "Image(filename='matrix2.png')"
   ]
  },
  {
   "cell_type": "markdown",
   "metadata": {},
   "source": [
    "Compute the Jaccard similarity between each pair of columns. Which of the following is the true similarity of the two stated columns?"
   ]
  },
  {
   "cell_type": "code",
   "execution_count": 6,
   "metadata": {},
   "outputs": [
    {
     "name": "stdout",
     "output_type": "stream",
     "text": [
      "C1 & C2: 0/5\n",
      "C1 & C3: 2/4\n",
      "C1 & C4: 1/3\n",
      "C2 & C3: 1/6\n",
      "C2 & C4: 1/4\n",
      "C3 & C4: 1/5\n"
     ]
    }
   ],
   "source": [
    "matrix = np.array([[0, 1, 1, 0],\n",
    "                   [1, 0, 1, 1],\n",
    "                   [0, 1, 0, 1],\n",
    "                   [0, 0, 1, 0],\n",
    "                   [1, 0, 1, 0],\n",
    "                   [0, 1, 0, 0]])\n",
    "\n",
    "num_rows, num_cols = matrix.shape\n",
    "cols = np.split(matrix, num_cols, axis=1)\n",
    "\n",
    "for i in range(0, len(cols)):\n",
    "    for j in range(i+1, len(cols)):\n",
    "        num_same = sum([\n",
    "            1 for k in range(0, num_rows)\n",
    "            if cols[i][k] == cols[j][k] == 1\n",
    "        ])\n",
    "        num_compare = sum([\n",
    "            1 for k in range(0, num_rows)\n",
    "            if cols[i][k] != cols[j][k]\n",
    "            or cols[i][k] == cols[j][k] == 1\n",
    "        ])\n",
    "        print('C{} & C{}: {}/{}'.format(i+1, j+1, num_same, num_compare))"
   ]
  },
  {
   "cell_type": "markdown",
   "metadata": {},
   "source": [
    "Consider the following matrix:"
   ]
  },
  {
   "cell_type": "code",
   "execution_count": 7,
   "metadata": {},
   "outputs": [
    {
     "data": {
      "image/png": "[encoded data removed]",
      "text/plain": [
       "<IPython.core.display.Image object>"
      ]
     },
     "execution_count": 7,
     "metadata": {},
     "output_type": "execute_result"
    }
   ],
   "source": [
    "Image(filename='matrix3.png')"
   ]
  },
  {
   "cell_type": "markdown",
   "metadata": {},
   "source": [
    "Perform a minhashing of the data, with the order of rows: R4, R6, R1, R3, R5, R2.\n",
    "\n",
    "Note: we give the minhash value in terms of the original name of the row, rather than the order of the row in the permutation. These two schemes are equivalent, since we only care whether hash values for two columns are equal, not what their actual values are."
   ]
  },
  {
   "cell_type": "code",
   "execution_count": 8,
   "metadata": {},
   "outputs": [
    {
     "name": "stdout",
     "output_type": "stream",
     "text": [
      "[5, 6, 4, 3]\n"
     ]
    }
   ],
   "source": [
    "matrix = np.array([[0, 1, 1, 0],\n",
    "                   [1, 0, 1, 1],\n",
    "                   [0, 1, 0, 1],\n",
    "                   [0, 0, 1, 0],\n",
    "                   [1, 0, 1, 0],\n",
    "                   [0, 1, 0, 0]])\n",
    "\n",
    "order = [4, 6, 1, 3, 5, 2]\n",
    "\n",
    "num_rows, num_cols = matrix.shape\n",
    "minhash = [0] * num_cols\n",
    "\n",
    "for i, o in enumerate(order):\n",
    "    row = matrix[o - 1]\n",
    "    for c in range(num_cols):\n",
    "        if row[c] == 1:\n",
    "            if minhash[c] == 0:\n",
    "                minhash[c] = o\n",
    "            elif i < order.index(minhash[c]):\n",
    "                minhash[c] = o\n",
    "\n",
    "print(minhash)"
   ]
  }
 ],
 "metadata": {
  "kernelspec": {
   "display_name": "Python 3",
   "language": "python",
   "name": "python3"
  },
  "language_info": {
   "codemirror_mode": {
    "name": "ipython",
    "version": 3
   },
   "file_extension": ".py",
   "mimetype": "text/x-python",
   "name": "python",
   "nbconvert_exporter": "python",
   "pygments_lexer": "ipython3",
   "version": "3.6.5"
  }
 },
 "nbformat": 4,
 "nbformat_minor": 2
}
