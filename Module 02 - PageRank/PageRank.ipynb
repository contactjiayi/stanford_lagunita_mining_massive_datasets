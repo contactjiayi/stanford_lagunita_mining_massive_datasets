{
 "cells": [
  {
   "cell_type": "markdown",
   "metadata": {},
   "source": [
    "### Module 2: PageRank\n",
    "\n",
    "Consider three Web pages with the following links:"
   ]
  },
  {
   "cell_type": "code",
   "execution_count": 1,
   "metadata": {},
   "outputs": [
    {
     "data": {
      "image/png": "[encoded data removed]",
      "text/plain": [
       "<IPython.core.display.Image object>"
      ]
     },
     "execution_count": 1,
     "metadata": {},
     "output_type": "execute_result"
    }
   ],
   "source": [
    "from IPython.display import Image\n",
    "Image(filename='pagerank1.png')"
   ]
  },
  {
   "cell_type": "markdown",
   "metadata": {},
   "source": [
    "Suppose we compute PageRank with a β of 0.7, and we introduce the additional constraint that the sum of the PageRanks of the three pages must be 3, to handle the problem that otherwise any multiple of a solution will also be a solution. Compute the PageRanks a, b, and c of the three pages A, B, and C, respectively. Then, identify from the list below, the true statement."
   ]
  },
  {
   "cell_type": "code",
   "execution_count": 8,
   "metadata": {},
   "outputs": [
    {
     "name": "stdout",
     "output_type": "stream",
     "text": [
      "a + b =  0.7050000000000001\n",
      "b + c =  2.6999999999999993\n",
      "a + c =  2.5949999999999998\n"
     ]
    }
   ],
   "source": [
    "import numpy as np\n",
    "\n",
    "# transition matrix\n",
    "M = np.array([[  0, 0, 0],\n",
    "              [0.5, 0, 0],\n",
    "              [0.5, 1, 1]])\n",
    "\n",
    "# initial vector\n",
    "v0 = np.array([1/3] * 3).T\n",
    "\n",
    "# v′ = βMv + (1 − β)e/n\n",
    "def pageRanks(beta, v0, M, num_iterations, tax=True):\n",
    "    v = v0\n",
    "    for i in range(num_iterations):\n",
    "        if not tax:\n",
    "            beta = 1\n",
    "        v = beta * M @ v + (1 - beta) * v0\n",
    "    return v\n",
    "\n",
    "v_final = pageRanks(0.7, v0, M, 100)\n",
    "a, b, c = v_final * 3\n",
    "print(\"a + b = \", a + b)\n",
    "print(\"b + c = \", b + c)\n",
    "print(\"a + c = \", a + c)"
   ]
  },
  {
   "cell_type": "markdown",
   "metadata": {},
   "source": [
    "The next two problems refer to the following diagram."
   ]
  },
  {
   "cell_type": "code",
   "execution_count": 2,
   "metadata": {},
   "outputs": [
    {
     "data": {
      "image/png": "[encoded data removed]",
      "text/plain": [
       "<IPython.core.display.Image object>"
      ]
     },
     "execution_count": 2,
     "metadata": {},
     "output_type": "execute_result"
    }
   ],
   "source": [
    "Image(filename='pagerank2.png')"
   ]
  },
  {
   "cell_type": "markdown",
   "metadata": {},
   "source": [
    "Suppose we compute PageRank with β=0.85. Write the equations for the PageRanks a, b, and c of the three pages A, B, and C, respectively. Then, identify in the list below, one of the equations."
   ]
  },
  {
   "cell_type": "code",
   "execution_count": 10,
   "metadata": {},
   "outputs": [],
   "source": [
    "a = 0.85 * (0.5 * c) + 0.15 / 3\n",
    "b = 0.85 * (0.5 * a) + 0.15 / 3\n",
    "c = 0.85 * b + 0.15 / 3"
   ]
  },
  {
   "cell_type": "code",
   "execution_count": 11,
   "metadata": {},
   "outputs": [
    {
     "name": "stdout",
     "output_type": "stream",
     "text": [
      "0.85a =  0.32962125494629724\n",
      "c + 0.15b =  0.4296212549462972\n",
      "0.85b =  0.1825890333521763\n",
      "0.575a + 0.15c =  0.2825890333521763\n",
      "c =  0.3973996608253249\n",
      "b + 0.575a =  0.6203787450537024\n",
      "0.95c =  0.37752967778405866\n",
      "0.9b + 0.475a =  0.37752967778405866\n"
     ]
    }
   ],
   "source": [
    "M = np.array([[  0, 0, 1],\n",
    "              [0.5, 0, 0],\n",
    "              [0.5, 1, 0]])\n",
    "\n",
    "a, b, c = pageRanks(0.85, v0, M, 1000)\n",
    "print(\"0.85a = \", 0.85 * a)\n",
    "print(\"c + 0.15b = \", c + 0.15 * b)\n",
    "print(\"0.85b = \", 0.85 * b)\n",
    "print(\"0.575a + 0.15c = \", 0.575 * a + 0.15 * c)\n",
    "print(\"c = \", c)\n",
    "print(\"b + 0.575a = \", c + 0.575 * a)\n",
    "print(\"0.95c = \", 0.95 * c)\n",
    "print(\"0.9b + 0.475a = \", 0.9 * b + 0.475 * a)"
   ]
  },
  {
   "cell_type": "markdown",
   "metadata": {},
   "source": [
    "Assuming no \"taxation,\" compute the PageRanks a, b, and c of the three pages A, B, and C, using iteration, starting with the \"0th\" iteration where all three pages have rank a = b = c = 1. Compute as far as the 5th iteration, and also determine what the PageRanks are in the limit. Then, identify the true statement from the list below."
   ]
  },
  {
   "cell_type": "code",
   "execution_count": 12,
   "metadata": {},
   "outputs": [
    {
     "name": "stdout",
     "output_type": "stream",
     "text": [
      "[1.  0.5 1.5]\n",
      "[1.5 0.5 1. ]\n",
      "[1.   0.75 1.25]\n",
      "[1.25 0.5  1.25]\n",
      "[1.25  0.625 1.125]\n",
      "[1.2 0.6 1.2]\n"
     ]
    }
   ],
   "source": [
    "v0 = np.array([1] * 3).T\n",
    "\n",
    "print(pageRanks(0.85, v0, M, 1, tax=False))\n",
    "print(pageRanks(0.85, v0, M, 2, tax=False))\n",
    "print(pageRanks(0.85, v0, M, 3, tax=False))\n",
    "print(pageRanks(0.85, v0, M, 4, tax=False))\n",
    "print(pageRanks(0.85, v0, M, 5, tax=False))\n",
    "print(pageRanks(0.85, v0, M, 100, tax=False))"
   ]
  },
  {
   "cell_type": "code",
   "execution_count": null,
   "metadata": {},
   "outputs": [],
   "source": []
  }
 ],
 "metadata": {
  "kernelspec": {
   "display_name": "Python 3",
   "language": "python",
   "name": "python3"
  },
  "language_info": {
   "codemirror_mode": {
    "name": "ipython",
    "version": 3
   },
   "file_extension": ".py",
   "mimetype": "text/x-python",
   "name": "python",
   "nbconvert_exporter": "python",
   "pygments_lexer": "ipython3",
   "version": "3.6.5"
  }
 },
 "nbformat": 4,
 "nbformat_minor": 2
}
