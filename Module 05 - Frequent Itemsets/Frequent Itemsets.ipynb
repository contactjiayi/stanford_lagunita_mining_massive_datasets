{
 "cells": [
  {
   "cell_type": "markdown",
   "metadata": {},
   "source": [
    "### Module 5: Frequent Itemsets"
   ]
  },
  {
   "cell_type": "markdown",
   "metadata": {},
   "source": [
    "Suppose we have transactions that satisfy the following assumptions:\n",
    "- s, the support threshold, is 10,000.\n",
    "- There are one million items, which are represented by the integers 0,1,...,999999.\n",
    "- There are N frequent items, that is, items that occur 10,000 times or more.\n",
    "- There are one million pairs that occur 10,000 times or more.\n",
    "- There are 2M pairs that occur exactly once. M of these pairs consist of two frequent items, the other M each have at least one nonfrequent item.\n",
    "- No other pairs occur at all.\n",
    "- Integers are always represented by 4 bytes.\n",
    "\n",
    "Suppose we run the a-priori algorithm to find frequent pairs and can choose on the second pass between the triangular-matrix method for counting candidate pairs (a triangular array count[i][j] that holds an integer count for each pair of items (i, j) where i < j) and a hash table of item-item-count triples. Neglect in the first case the space needed to translate between original item numbers and numbers for the frequent items, and in the second case neglect the space needed for the hash table. Assume that item numbers and counts are always 4-byte integers.\n",
    "\n",
    "As a function of N and M, what is the minimum number of bytes of main memory needed to execute the a-priori algorithm on this data?"
   ]
  },
  {
   "cell_type": "code",
   "execution_count": 1,
   "metadata": {},
   "outputs": [
    {
     "name": "stdout",
     "output_type": "stream",
     "text": [
      "N: 20,000, M: 80,000,000, Memory: 800,040,000.0\n",
      "N: 100,000, M: 40,000,000, Memory: 480,400,000\n",
      "N: 50,000, M: 200,000,000, Memory: 2,400,200,000\n",
      "N: 30,000, M: 100,000,000, Memory: 1,200,120,000\n"
     ]
    }
   ],
   "source": [
    "support_threshold = 10**4\n",
    "num_items = 10**6\n",
    "num_freq_pairs = 10**6\n",
    "\n",
    "variable_choices = [( 20 * 10**3,  80 * 10**6),\n",
    "                    (100 * 10**3,  40 * 10**6),\n",
    "                    ( 50 * 10**3, 200 * 10**6),\n",
    "                    ( 30 * 10**3, 100 * 10**6)]\n",
    "\n",
    "def n_choose_2(N):\n",
    "    return N * (N-1) / 2\n",
    "\n",
    "for N, M in variable_choices:\n",
    "    # first pass only stores the item counts\n",
    "    # second pass stores the frequent items and\n",
    "    # the counts of pairs of frequent items (candidate pairs)\n",
    "    t_matrix_memory = 4 * n_choose_2(N)\n",
    "    triples_memory = 12 * M\n",
    "    min_memory = 4 * N + min(t_matrix_memory, triples_memory)\n",
    "    print('N: {:,}, M: {:,}, Memory: {:,}'.format(N, M, min_memory))"
   ]
  },
  {
   "cell_type": "markdown",
   "metadata": {},
   "source": [
    "Below is a table representing eight transactions and five items: Beer, Coke, Pepsi, Milk, and Juice. The items are represented by their first letters; e.g., \"M\" = milk. An \"x\" indicates membership of the item in the transaction."
   ]
  },
  {
   "cell_type": "code",
   "execution_count": 2,
   "metadata": {},
   "outputs": [
    {
     "data": {
      "image/png": "[encoded data removed]",
      "text/plain": [
       "<IPython.core.display.Image object>"
      ]
     },
     "execution_count": 2,
     "metadata": {},
     "output_type": "execute_result"
    }
   ],
   "source": [
    "from IPython.display import Image\n",
    "Image(filename='transactions.png')"
   ]
  },
  {
   "cell_type": "markdown",
   "metadata": {},
   "source": [
    "Compute the support for each of the 10 pairs of items. If the support threshold is 2, which of the pairs are frequent itemsets?"
   ]
  },
  {
   "cell_type": "code",
   "execution_count": 3,
   "metadata": {},
   "outputs": [
    {
     "name": "stdout",
     "output_type": "stream",
     "text": [
      "('C', 'M') 3\n",
      "('B', 'C') 3\n",
      "('B', 'J') 2\n",
      "('C', 'J') 2\n",
      "('B', 'M') 2\n",
      "('M', 'J') 2\n"
     ]
    }
   ],
   "source": [
    "from collections import defaultdict\n",
    "\n",
    "transactions = [['B', 'P'],\n",
    "                ['C', 'M'],\n",
    "                ['B', 'C', 'J'],\n",
    "                ['P', 'M'],\n",
    "                ['B', 'C', 'M'],\n",
    "                ['M', 'J'],\n",
    "                ['P', 'J'],\n",
    "                ['B', 'C', 'M', 'J']]\n",
    "\n",
    "pair_counts = defaultdict(int)\n",
    "\n",
    "def pairs(items):\n",
    "    combos = []\n",
    "    for i in range(0, len(items)):\n",
    "        for j in range(i+1, len(items)):\n",
    "            combos.append((items[i], items[j]))\n",
    "    return combos\n",
    "\n",
    "for transaction in transactions:\n",
    "    for pair in pairs(transaction):\n",
    "        pair_counts[pair] += 1\n",
    "        \n",
    "for pair, count in pair_counts.items():\n",
    "    if count >= 2:\n",
    "        print(pair, count)"
   ]
  },
  {
   "cell_type": "markdown",
   "metadata": {},
   "source": [
    "Suppose we perform the PCY algorithm to find frequent pairs, with market-basket data meeting the following specifications:\n",
    "\n",
    "- s, the support threshold, is 10,000.\n",
    "- There are one million items, which are represented by the integers 0,1,...,999999.\n",
    "- There are 250,000 frequent items, that is, items that occur 10,000 times or more.\n",
    "- There are one million pairs that occur 10,000 times or more.\n",
    "- There are P pairs that occur exactly once and consist of 2 frequent items.\n",
    "- No other pairs occur at all.\n",
    "- Integers are always represented by 4 bytes.\n",
    "- When we hash pairs, they distribute among buckets randomly, but as evenly as possible; i.e., you may assume that each bucket gets exactly its fair share of the P pairs that occur once.\n",
    "\n",
    "Suppose there are S bytes of main memory. In order to run the PCY algorithm successfully, the number of buckets must be sufficiently large that most buckets are not frequent. In addition, on the second pass, there must be enough room to count all the candidate pairs. As a function of S, what is the largest value of P for which we can successfully run the PCY algorithm on this data?"
   ]
  },
  {
   "cell_type": "code",
   "execution_count": 20,
   "metadata": {},
   "outputs": [
    {
     "name": "stdout",
     "output_type": "stream",
     "text": [
      "First pass: Support Threshold: 10,000, Avg Count: 140\n",
      "Second pass: Memory: 1,000,000,000, Needs: 1,729,211,415\n",
      "\n",
      "First pass: Support Threshold: 10,000, Avg Count: 40\n",
      "Second pass: Memory: 1,000,000,000, Needs: 525,600,582\n",
      "\n",
      "First pass: Support Threshold: 10,000, Avg Count: 40\n",
      "Second pass: Memory: 500,000,000, Needs: 511,428,634\n",
      "\n",
      "First pass: Support Threshold: 10,000, Avg Count: 25\n",
      "Second pass: Memory: 500,000,000, Needs: 337,585,575\n",
      "\n"
     ]
    }
   ],
   "source": [
    "support_threshold = 10**4\n",
    "num_items = 10**6\n",
    "num_freq_items = 250 * 10**3\n",
    "num_freq_pairs = 10**6\n",
    "bucket_bytes = 4\n",
    "\n",
    "variable_sets = [(      10**9,  35 * 10**9),\n",
    "                 (      10**9,  10 * 10**9),\n",
    "                 (0.5 * 10**9,   5 * 10**9),\n",
    "                 (0.5 * 10**9, 3.2 * 10**9)]\n",
    "\n",
    "for S, P in variable_sets:\n",
    "    # first pass\n",
    "    t1_matrix_memory = 4 * num_items\n",
    "    triples1_memory = 12 * num_freq_items\n",
    "    item_counts_memory = min(t1_matrix_memory, triples1_memory)\n",
    "    remaining_memory = S - item_counts_memory\n",
    "    num_buckets = remaining_memory / bucket_bytes\n",
    "    avg_nonfrequent_bucket_count = P / num_buckets\n",
    "    print('First pass: Support Threshold: {:,}, Avg Count: {:,}'.format(\n",
    "        support_threshold,\n",
    "        int(avg_nonfrequent_bucket_count),\n",
    "    ))\n",
    "    # second pass\n",
    "    freq_items_memory = 4 * num_freq_items\n",
    "    bitmap_memory = (1 / 8) * num_buckets\n",
    "    # assume each frequent pair hashes to a different bucket\n",
    "    # each of this buckets also gets its fair share of the P pairs that occur once\n",
    "    num_candidate_pairs = num_freq_pairs + num_freq_pairs * avg_nonfrequent_bucket_count\n",
    "    # PCY algorithm requires a hash table to store candidate pairs\n",
    "    triples2_memory = 12 * num_candidate_pairs\n",
    "    second_pass_memory = sum([\n",
    "        freq_items_memory,\n",
    "        bitmap_memory,\n",
    "        triples2_memory,\n",
    "    ])\n",
    "    print('Second pass: Memory: {:,}, Needs: {:,}\\n'.format(int(S), int(second_pass_memory)))"
   ]
  },
  {
   "cell_type": "markdown",
   "metadata": {},
   "source": [
    "During a run of Toivonen's Algorithm with set of items {A,B,C,D,E,F,G,H} a sample is found to have the following maximal frequent itemsets: {A,B}, {A,C}, {A,D}, {B,C}, {E}, {F}. Compute the negative border."
   ]
  },
  {
   "cell_type": "code",
   "execution_count": 5,
   "metadata": {},
   "outputs": [
    {
     "name": "stdout",
     "output_type": "stream",
     "text": [
      "['A', 'B', 'C']\n",
      "['E', 'F']\n",
      "['A', 'E']\n",
      "['A', 'F']\n",
      "['B', 'D']\n",
      "['B', 'E']\n",
      "['B', 'F']\n",
      "['C', 'D']\n",
      "['C', 'E']\n",
      "['C', 'F']\n",
      "['D', 'E']\n",
      "['D', 'F']\n"
     ]
    }
   ],
   "source": [
    "from itertools import combinations\n",
    "\n",
    "items = [letter for letter in 'ABCDEFGH']\n",
    "max_freq_itemsets = [['A', 'B'],\n",
    "                     ['A', 'C'],\n",
    "                     ['A', 'D'],\n",
    "                     ['B', 'C'],\n",
    "                     ['E'],\n",
    "                     ['F']]\n",
    "\n",
    "def all_freq_itemsets(max_freq_itemsets):\n",
    "    freq_itemsets = max_freq_itemsets \n",
    "    for itemset in max_freq_itemsets:\n",
    "        for i in range(1, len(itemset)):\n",
    "            combos = combinations(itemset, i)\n",
    "            for combo in combos:\n",
    "                if list(combo) not in freq_itemsets:\n",
    "                    freq_itemsets.append(list(combo))\n",
    "    return freq_itemsets\n",
    "\n",
    "def in_negative_border(candidate, freq_itemsets):\n",
    "    n_minus_1_subsets = combinations(candidate, len(candidate) - 1)\n",
    "    if candidate in freq_itemsets:\n",
    "        return False\n",
    "    for subset in n_minus_1_subsets:\n",
    "        if list(subset) not in freq_itemsets:\n",
    "            return False\n",
    "    return True\n",
    "\n",
    "freq_itemsets = all_freq_itemsets(max_freq_itemsets)\n",
    "\n",
    "for itemset in max_freq_itemsets:\n",
    "    last_item = sorted(itemset)[-1]\n",
    "    for idx, item in enumerate(items):\n",
    "        if idx > items.index(last_item) and item not in itemset:\n",
    "            candidate = sorted(itemset + [item])\n",
    "            if in_negative_border(candidate, freq_itemsets):\n",
    "                print(candidate)"
   ]
  }
 ],
 "metadata": {
  "kernelspec": {
   "display_name": "Python 3",
   "language": "python",
   "name": "python3"
  },
  "language_info": {
   "codemirror_mode": {
    "name": "ipython",
    "version": 3
   },
   "file_extension": ".py",
   "mimetype": "text/x-python",
   "name": "python",
   "nbconvert_exporter": "python",
   "pygments_lexer": "ipython3",
   "version": "3.6.5"
  }
 },
 "nbformat": 4,
 "nbformat_minor": 2
}
