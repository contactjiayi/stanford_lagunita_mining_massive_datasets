{
 "cells": [
  {
   "cell_type": "markdown",
   "metadata": {},
   "source": [
    "### Module 11: Computational Advertising"
   ]
  },
  {
   "cell_type": "markdown",
   "metadata": {},
   "source": [
    "Suppose we apply the BALANCE algorithm with bids of 0 or 1 only, to a situation where advertiser A bids on query words x and y, while advertiser B bids on query words x and z. Both have a budget of $2. Identify a sequence of four queries that will certainly be handled optimally by the algorithm."
   ]
  },
  {
   "cell_type": "code",
   "execution_count": null,
   "metadata": {},
   "outputs": [],
   "source": [
    "from first import first\n",
    "\n",
    "ADVERTISING_BUDGET = 2\n",
    "ADVERTISERS_DICT = {\n",
    "    'A': {\n",
    "        'words': ['x', 'y'],\n",
    "        'budget':ADVERTISING_BUDGET,\n",
    "    },\n",
    "    'B' : {\n",
    "        'words': ['x', 'z'],\n",
    "        'budget': ADVERTISING_BUDGET,\n",
    "    },\n",
    "}\n",
    "\n",
    "A_QUERIES = ADVERTISERS_DICT['A']['words']\n",
    "B_QUERIES = ADVERTISERS_DICT['B']['words']\n",
    "\n",
    "INTERSECTION = set(A_QUERIES).intersection(B_QUERIES)\n",
    "UNION = set(A_QUERIES).union(B_QUERIES)\n",
    "\n",
    "TOTAL_BUDGET = sum([\n",
    "    ADVERTISERS_DICT[a]['budget']\n",
    "    for a in ADVERTISERS_DICT.keys()\n",
    "])\n",
    "\n",
    "def permutations(perms, remaining_budget):\n",
    "    new_perms = [\n",
    "        p + w\n",
    "        for p in perms\n",
    "        for w in UNION\n",
    "    ]\n",
    "    if len(first(perms)) + 1 == TOTAL_BUDGET:\n",
    "        return new_perms\n",
    "    return permutations(new_perms, remaining_budget - 1)\n",
    "\n",
    "def bidding_advertisers(word, advertisers):\n",
    "    valid_advertisers = advertisers.copy()\n",
    "    for a in advertisers.keys():\n",
    "        if (\n",
    "            word not in valid_advertisers[a]['words']\n",
    "            or valid_advertisers[a]['budget'] == 0\n",
    "        ):\n",
    "            del valid_advertisers[a]\n",
    "    return valid_advertisers\n",
    "\n",
    "def max_budget_advertisers(advertisers):\n",
    "    max_budget = max(\n",
    "        [advertisers[a]['budget']\n",
    "         for a in advertisers.keys()]\n",
    "    )\n",
    "    return [\n",
    "        a for a in advertisers.keys()\n",
    "        if advertisers[a]['budget'] == max_budget\n",
    "    ]\n",
    "        \n",
    "def is_valid(remaining_sequence, advertisers):\n",
    "    current_word = first(remaining_sequence)\n",
    "    valid_advertisers = bidding_advertisers(current_word, advertisers)\n",
    "    \n",
    "    # base case 1\n",
    "    if current_word is None:\n",
    "        return True\n",
    "    \n",
    "    # base case 2\n",
    "    if len(valid_advertisers.keys()) == 0:\n",
    "        return False\n",
    "    \n",
    "    advertisers_to_choose = max_budget_advertisers(valid_advertisers)\n",
    "    \n",
    "    for ca in advertisers_to_choose:\n",
    "        updated_advertisers = advertisers.copy()\n",
    "        updated_advertisers[ca]['budget'] -= 1\n",
    "        return is_valid(remaining_sequence[1:], updated_advertisers)\n",
    "\n",
    "all_possible_sequences = permutations(sorted(list(UNION)), TOTAL_BUDGET)\n",
    "optimal_sequences = []\n",
    "for seq in all_possible_sequences:\n",
    "    if is_valid(seq, ADVERTISERS_DICT):\n",
    "        optimal_sequences.append(seq)\n",
    "print('Optimal Sequences: {}'.format(optimal_sequences))"
   ]
  },
  {
   "cell_type": "markdown",
   "metadata": {},
   "source": [
    "The set cover problem is: given a list of sets, find a smallest collection of these sets such that every element in any of the sets is in at least one set of the collection. As we form a collection, we say an element is covered if it is in at least one set of the collection.\n",
    "\n",
    "Note: In this problem, we shall represent sets by concatentating their elements, without brackets or commas. For example, {A,B} will be represented simply as AB.\n",
    "\n",
    "There are many greedy algorithms that could be used to pick a collection of sets that is close to as small as possible. Here are some that you will consider in this problem.\n",
    "\n",
    "Dumb: Select sets for the collection in the order in which they appear on the list. Stop when all elements are covered.\n",
    "\n",
    "Simple: Consider sets in the order in which they appear on the list. When it is considered, select a set if it has at least one element that is not already covered. Stop when all elements are covered.\n",
    "\n",
    "Largest-First: Consider sets in order of their size. If there are ties, break the tie in favor of the one that appears first on the list. When it is considered, select a set if it has at least one element that is not already covered. Stop when all elements are covered.\n",
    "\n",
    "Most-Help: Consider sets in order of the number of elements they contain that are not already covered. If there are ties, break the tie in favor of the one that appears first on the list. Stop when all elements are covered.\n",
    "\n",
    "Here is a list of sets: AB, BC, CD, DE, EF, FG, GH, AH, ADG, ADF\n",
    "\n",
    "First, determine the optimum solution, that is, the fewest sets that can be selected for a collection that covers all eight elements A,B,...,H. Then, determine the sizes of the collections that will be constructed by each of the four algorithms mentioned above. Compute the ratio of the size returned by the algorithm to the optimum size."
   ]
  },
  {
   "cell_type": "code",
   "execution_count": 62,
   "metadata": {},
   "outputs": [
    {
     "name": "stdout",
     "output_type": "stream",
     "text": [
      "DUMB: ['AB', 'BC', 'CD', 'DE', 'EF', 'FG', 'GH'], Ratio: 1.75\n",
      "SIMPLE: ['AB', 'BC', 'CD', 'DE', 'EF', 'FG', 'GH'], Ratio: 1.75\n",
      "LARGEST_FIRST: ['ADG', 'ADF', 'AB', 'BC', 'DE', 'GH'], Ratio: 1.5\n",
      "MOST_HELP: ['ADG', 'BC', 'EF', 'GH'], Ratio: 1.0\n"
     ]
    }
   ],
   "source": [
    "ELEMENTS = [letter for letter in 'ABCDEFGH']\n",
    "SETS = ['AB', 'BC', 'CD', 'DE', 'EF', 'FG', 'GH', 'AH', 'ADG', 'ADF']\n",
    "\n",
    "# by inspection\n",
    "OPTIMAL_SOLUTION = ['ADG', 'BC', 'EF', 'GH']\n",
    "\n",
    "def distinct_elements(collection):\n",
    "    return set(el for s in collection for el in s)\n",
    "\n",
    "def num_unique(unique_elements, _set):\n",
    "    return sum([1 for el in _set if el not in unique_elements])\n",
    "        \n",
    "def dumb(sets):\n",
    "    collection = []\n",
    "    for _set in sets:\n",
    "        unique = distinct_elements(collection)\n",
    "        if len(unique) < len(ELEMENTS):\n",
    "            collection.append(_set)\n",
    "    return collection\n",
    "\n",
    "def simple(sets):\n",
    "    collection = []\n",
    "    for _set in sets:\n",
    "        unique = distinct_elements(collection)\n",
    "        if (\n",
    "            len(unique) < len(ELEMENTS) and\n",
    "            num_unique(unique, _set) > 0\n",
    "        ):\n",
    "            collection.append(_set)\n",
    "    return collection\n",
    "\n",
    "def largest_first(sets):\n",
    "    sorted_sets = sorted(sets, key=lambda s: len(s), reverse=True)\n",
    "    return simple(sorted_sets)\n",
    "\n",
    "def most_help(sets):\n",
    "    collection = []\n",
    "    while len(distinct_elements(collection)) < len(ELEMENTS):\n",
    "        unique = distinct_elements(collection)\n",
    "        sorted_sets = sorted(sets, key=lambda s: num_unique(unique, s), reverse=True)\n",
    "        collection.append(first(sorted_sets))\n",
    "    return collection\n",
    "\n",
    "def calc_ratio(solution, optimal_solution):\n",
    "    return len(solution) / len(optimal_solution)\n",
    "\n",
    "for func in [dumb, simple, largest_first, most_help]:\n",
    "    solution = func(SETS)\n",
    "    ratio = calc_ratio(solution, OPTIMAL_SOLUTION)\n",
    "    print('{}: {}, Ratio: {:.3}'.format(func.__name__.upper(), solution, ratio))"
   ]
  },
  {
   "cell_type": "markdown",
   "metadata": {},
   "source": [
    "This bipartite graph:"
   ]
  },
  {
   "cell_type": "code",
   "execution_count": 1,
   "metadata": {},
   "outputs": [
    {
     "data": {
      "image/gif": "[encoded data removed]",
      "text/plain": [
       "<IPython.core.display.Image object>"
      ]
     },
     "execution_count": 1,
     "metadata": {},
     "output_type": "execute_result"
    }
   ],
   "source": [
    "from IPython.display import Image\n",
    "Image(filename='bipartite.gif')"
   ]
  },
  {
   "cell_type": "markdown",
   "metadata": {},
   "source": [
    "Has several perfect matchings. Find all the perfect matchings."
   ]
  },
  {
   "cell_type": "code",
   "execution_count": 154,
   "metadata": {},
   "outputs": [
    {
     "data": {
      "text/plain": [
       "[[('a0', 'b0'), ('a1', 'b2'), ('a2', 'b4'), ('a3', 'b1'), ('a4', 'b3')],\n",
       " [('a0', 'b1'), ('a1', 'b3'), ('a2', 'b0'), ('a3', 'b2'), ('a4', 'b4')]]"
      ]
     },
     "execution_count": 154,
     "metadata": {},
     "output_type": "execute_result"
    }
   ],
   "source": [
    "# Perfect matching: every node appears in the matching\n",
    "\n",
    "import networkx as nx\n",
    "\n",
    "NODES = [\n",
    "    '{}{}'.format(letter, n)\n",
    "    for n in range(0, 5)\n",
    "    for letter in 'ab'\n",
    "]\n",
    "A_NODES = [node for node in NODES if first(node) == 'a']\n",
    "\n",
    "EDGES = [('a0', 'b0'), ('a0', 'b1'),\n",
    "         ('a1', 'b2'), ('a1', 'b3'),\n",
    "         ('a2', 'b0'), ('a2', 'b4'),\n",
    "         ('a3', 'b1'), ('a3', 'b2'),\n",
    "         ('a4', 'b3'), ('a4', 'b4')]\n",
    "\n",
    "graph = nx.Graph()\n",
    "graph.add_nodes_from(NODES)\n",
    "graph.add_edges_from(EDGES)\n",
    "    \n",
    "def perfect_matchings(matchings, node):\n",
    "    curr_idx = A_NODES.index(node)\n",
    "    new_matchings = [\n",
    "        matching + [(node, neighbor)]\n",
    "        for matching in matchings\n",
    "        for neighbor in graph.neighbors(node)\n",
    "        if neighbor not in [m[1] for m in matching]\n",
    "    ]\n",
    "    # base case: last a_node\n",
    "    if curr_idx == len(a_nodes) - 1:\n",
    "        return new_matchings\n",
    "    next_node = A_NODES[curr_idx + 1]\n",
    "    return perfect_matchings(new_matchings, next_node)\n",
    "    \n",
    "perfect_matchings([[]], 'a0')"
   ]
  },
  {
   "cell_type": "markdown",
   "metadata": {},
   "source": [
    "An ad publisher selects three ads to place on each page, in order from the top. Click-through rates (CTR's) at each position differ for each advertiser, and each advertiser has a different CTR for each position. Each advertiser bids for click-throughs, and each advertiser has a daily budget, which may not be exceeded. When a click-through occurs, the advertiser pays the amount they bid. In one day, there are 101 click-throughs to be auctioned.\n",
    "\n",
    "Here is a table of the bids, CTR's for positions 1, 2, and 3, and budget for each advertiser."
   ]
  },
  {
   "cell_type": "code",
   "execution_count": 2,
   "metadata": {},
   "outputs": [
    {
     "data": {
      "image/png": "[encoded data removed]",
      "text/plain": [
       "<IPython.core.display.Image object>"
      ]
     },
     "execution_count": 2,
     "metadata": {},
     "output_type": "execute_result"
    }
   ],
   "source": [
    "Image(filename='adwords.png')"
   ]
  },
  {
   "cell_type": "markdown",
   "metadata": {},
   "source": [
    "The publisher uses the following strategy to allocate the three ad slots:\n",
    "    \n",
    "1. Any advertiser whose budget is spent is ignored in what follows.\n",
    "2. The first slot goes to the advertiser whose expected yield for the first slot\n",
    "(product of the bid and the CTR for the first slot) is the greatest. This advertiser is ignored in what follows.\n",
    "3. The second slot goes to the advertiser whose expected yield for the second slot\n",
    "(product of the bid and the CTR for the second slot) is the greatest. This advertiser is ignored in what follows.\n",
    "4. The third slot goes to the advertiser whose expected yield for the third slot\n",
    "(product of the bid and the CTR for the third slot) is the greatest.\n",
    "\n",
    "The same three advertisers get the three ad positions until one of two things happens:\n",
    "\n",
    "1. An advertiser runs out of budget, or\n",
    "2. All 101 click-throughs have been obtained.\n",
    "\n",
    "Either of these events ends one phase of the allocation. If a phase ends because an advertiser ran out of budget, then they are assumed to get all the clicks their budget buys. During the same phase, we calculate the number of click-throughs received by the other two advertisers by assuming that all three received click-throughs in proportion to their respective CTR's for their positions (round to the nearest integer). If click-throughs remain, the publisher reallocates all three slots and starts a new phase.\n",
    "\n",
    "If the phase ends because all click-throughs have been allocated, assume that the three advertisers received click-throughs in proportion to their respective CTR's (again, rounding if necessary).\n",
    "\n",
    "Your task is to simulate the allocation of slots and to determine how many click-throughs each of the five advertisers get."
   ]
  },
  {
   "cell_type": "code",
   "execution_count": 150,
   "metadata": {},
   "outputs": [
    {
     "name": "stdout",
     "output_type": "stream",
     "text": [
      "A: 10 clickthroughs\n",
      "B: 22 clickthroughs\n",
      "C: 38 clickthroughs\n",
      "D: 8 clickthroughs\n",
      "E: 26 clickthroughs\n"
     ]
    }
   ],
   "source": [
    "TOTAL_CTR = 101\n",
    "\n",
    "ADVERTISERS = {\n",
    "    'A': {\n",
    "        'bid': 0.1,\n",
    "        'ctr1': 0.015,\n",
    "        'ctr2': 0.01,\n",
    "        'ctr3': 0.005,\n",
    "        'budget': 1,\n",
    "    },\n",
    "    'B': {\n",
    "        'bid': 0.09,\n",
    "        'ctr1': 0.016,\n",
    "        'ctr2': 0.012,\n",
    "        'ctr3': 0.006,\n",
    "        'budget': 2,\n",
    "    },\n",
    "    'C': {\n",
    "        'bid': 0.08,\n",
    "        'ctr1': 0.017,\n",
    "        'ctr2': 0.014,\n",
    "        'ctr3': 0.007,\n",
    "        'budget': 3,\n",
    "    },\n",
    "    'D': {\n",
    "        'bid': 0.07,\n",
    "        'ctr1': 0.018,\n",
    "        'ctr2': 0.015,\n",
    "        'ctr3': 0.008,\n",
    "        'budget': 4,\n",
    "    },\n",
    "    'E': {\n",
    "        'bid': 0.06,\n",
    "        'ctr1': 0.019,\n",
    "        'ctr2': 0.016,\n",
    "        'ctr3': 0.01,\n",
    "        'budget': 5,\n",
    "    },\n",
    "}\n",
    "\n",
    "LABELS = sorted(ADVERTISERS.keys())\n",
    "\n",
    "for a in LABELS:\n",
    "    ADVERTISERS[a]['yield1'] = ADVERTISERS[a]['bid'] * ADVERTISERS[a]['ctr1']\n",
    "    ADVERTISERS[a]['yield2'] = ADVERTISERS[a]['bid'] * ADVERTISERS[a]['ctr2']\n",
    "    ADVERTISERS[a]['yield3'] = ADVERTISERS[a]['bid'] * ADVERTISERS[a]['ctr3']\n",
    "    ADVERTISERS[a]['remaining_budget'] = ADVERTISERS[a]['budget']\n",
    "    ADVERTISERS[a]['clickthroughs'] = 0\n",
    "\n",
    "YIELD_1_ORDER = sorted(\n",
    "    [(a, ADVERTISERS[a]['yield1']) for a in LABELS],\n",
    "    key=lambda el: el[1],\n",
    "    reverse=True,\n",
    ")\n",
    "\n",
    "YIELD_2_ORDER = sorted(\n",
    "    [(a, ADVERTISERS[a]['yield2']) for a in LABELS],\n",
    "    key=lambda el: el[1],\n",
    "    reverse=True,\n",
    ")\n",
    "\n",
    "YIELD_3_ORDER = sorted(\n",
    "    [(a, ADVERTISERS[a]['yield3']) for a in LABELS],\n",
    "    key=lambda el: el[1],\n",
    "    reverse=True,\n",
    ")\n",
    "\n",
    "remaining_CTR = TOTAL_CTR\n",
    "\n",
    "while remaining_CTR > 0:\n",
    "    selected_advertisers = []\n",
    "\n",
    "    for a, y in YIELD_1_ORDER:\n",
    "        if ADVERTISERS[a]['remaining_budget'] >= y:\n",
    "            selected_advertisers.append(a)\n",
    "            break\n",
    "    \n",
    "    for b, y in YIELD_2_ORDER:\n",
    "        if b not in selected_advertisers:\n",
    "            if ADVERTISERS[b]['remaining_budget'] >= y:\n",
    "                selected_advertisers.append(b)\n",
    "                remaining_CTR -= ADVERTISERS[b]['ctr2']\n",
    "                break\n",
    "    \n",
    "    for c, y in YIELD_3_ORDER:\n",
    "        if c not in selected_advertisers:\n",
    "            if ADVERTISERS[c]['remaining_budget'] >= y:\n",
    "                selected_advertisers.append(c)\n",
    "                remaining_CTR -= ADVERTISERS[c]['ctr3']\n",
    "                break\n",
    "\n",
    "    a_clickthroughs = ADVERTISERS[a]['remaining_budget'] / ADVERTISERS[a]['bid']\n",
    "    ADVERTISERS[a]['remaining_budget'] -= ADVERTISERS[a]['bid'] * a_clickthroughs\n",
    "    ADVERTISERS[a]['clickthroughs'] += a_clickthroughs\n",
    "\n",
    "    combined_ctr = ADVERTISERS[a]['ctr1'] + ADVERTISERS[b]['ctr2'] + ADVERTISERS[c]['ctr3']\n",
    "    total_clickthroughs = combined_ctr / ADVERTISERS[a]['ctr1'] * a_clickthroughs\n",
    "\n",
    "    b_clickthroughs = total_clickthroughs * ADVERTISERS[b]['ctr2'] / combined_ctr\n",
    "    ADVERTISERS[b]['remaining_budget'] -= ADVERTISERS[b]['bid'] * b_clickthroughs\n",
    "    ADVERTISERS[b]['clickthroughs'] += b_clickthroughs\n",
    "\n",
    "    c_clickthroughs = total_clickthroughs * ADVERTISERS[c]['ctr3'] / combined_ctr\n",
    "    ADVERTISERS[c]['remaining_budget'] -= ADVERTISERS[c]['bid'] * c_clickthroughs\n",
    "    ADVERTISERS[c]['clickthroughs'] += c_clickthroughs\n",
    "\n",
    "    remaining_CTR -= a_clickthroughs\n",
    "    remaining_CTR -= b_clickthroughs\n",
    "    remaining_CTR -= c_clickthroughs\n",
    "        \n",
    "    selected_advertisers = []\n",
    "\n",
    "for a in LABELS:\n",
    "    print('{}: {} clickthroughs'.format(a, round(ADVERTISERS[a]['clickthroughs'])))"
   ]
  }
 ],
 "metadata": {
  "kernelspec": {
   "display_name": "Python 3",
   "language": "python",
   "name": "python3"
  },
  "language_info": {
   "codemirror_mode": {
    "name": "ipython",
    "version": 3
   },
   "file_extension": ".py",
   "mimetype": "text/x-python",
   "name": "python",
   "nbconvert_exporter": "python",
   "pygments_lexer": "ipython3",
   "version": "3.6.5"
  }
 },
 "nbformat": 4,
 "nbformat_minor": 2
}
