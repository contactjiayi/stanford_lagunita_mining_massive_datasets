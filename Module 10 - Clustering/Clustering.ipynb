{
 "cells": [
  {
   "cell_type": "markdown",
   "metadata": {},
   "source": [
    "### Module 10: Clustering\n",
    "\n",
    "We can cluster in one dimension as well as in many dimensions. In this problem, we are going to cluster numbers on the real line. The particular numbers (data points) are 1, 4, 9, 16, 25, 36, 49, 64, 81, and 100, i.e., the squares of 1 through 10. We shall use a k-means algorithm, with two clusters. You can verify easily that no matter which two points we choose as the initial centroids, some prefix of the sequence of squares will go into the cluster of the smaller and the remaining suffix goes into the other cluster. As a result, there are only nine different clusterings that can be achieved, ranging from {1}{4,9,...,100} through {1,4,...,81}{100}.\n",
    "\n",
    "We then go through a reclustering phase, where the centroids of the two clusters are recalculated and all points are reassigned to the nearer of the two new centroids. For each of the nine possible clusterings, calculate how many points are reclassified during the reclustering phase."
   ]
  },
  {
   "cell_type": "code",
   "execution_count": 98,
   "metadata": {},
   "outputs": [
    {
     "name": "stdout",
     "output_type": "stream",
     "text": [
      "Clustering ([1, 4, 9, 16, 25, 36, 49], [64, 81, 100]) with initial centroids (36, 81) changed to ([1, 4, 9, 16, 25, 36, 49], [64, 81, 100])\n",
      "\n",
      "Clustering ([1, 4], [9, 16, 25, 36, 49, 64, 81, 100]) with initial centroids (1, 16) changed to ([1, 4, 9, 16], [25, 36, 49, 64, 81, 100])\n",
      "\n",
      "Clustering ([1, 4, 9, 16, 25], [36, 49, 64, 81, 100]) with initial centroids (4, 64) changed to ([1, 4, 9, 16, 25, 36], [49, 64, 81, 100])\n",
      "\n",
      "Clustering ([1, 4, 9, 16, 25, 36, 49], [64, 81, 100]) with initial centroids (36, 64) changed to ([1, 4, 9, 16, 25, 36, 49], [64, 81, 100])\n",
      "\n"
     ]
    }
   ],
   "source": [
    "numbers = [i ** 2 for i in range(1, 11)]\n",
    "clusterings = [(numbers[:n], numbers[n:]) for n in range(1, len(numbers))]\n",
    "\n",
    "initial_centroid_sets = [(36, 81),\n",
    "                         ( 1, 16),\n",
    "                         ( 4, 64),\n",
    "                         (36, 64)]\n",
    "\n",
    "def find_clustering(clusterings, centroid_mean):\n",
    "    for clusters in clusterings:\n",
    "        cluster1, cluster2 = clusters\n",
    "        if cluster1[-1] <= centroid_mean and cluster2[0] >= centroid_mean:\n",
    "            return clusters\n",
    "        \n",
    "def calc_centroid(cluster):\n",
    "    return sum(cluster) / len(cluster)\n",
    "\n",
    "for initial_centroids in initial_centroid_sets:\n",
    "    mean = np.mean(initial_centroids)\n",
    "    clusters = find_clustering(clusterings, mean)\n",
    "    new_centroids = tuple(calc_centroid(cluster) for cluster in clusters)\n",
    "    new_mean = np.mean(new_centroids)\n",
    "    new_clusters = find_clustering(clusterings, new_mean)\n",
    "    print('Clustering {} with initial centroids {} changed to {}'.format(\n",
    "        clusters,\n",
    "        initial_centroids,\n",
    "        new_clusters,\n",
    "    ))\n",
    "    print()"
   ]
  },
  {
   "cell_type": "markdown",
   "metadata": {},
   "source": [
    "Suppose we want to assign points to one of two cluster centroids, either (0,0) or (100,40). Depending on whether we use the L1 or L2 norm, a point (x,y) could be clustered with a different one of these two centroids. For this problem, you should work out the conditions under which a point will be clustered with the centroid (0,0) when the L1 norm is used, but clustered with the centroid (100,40) when the L2 norm is used."
   ]
  },
  {
   "cell_type": "code",
   "execution_count": 99,
   "metadata": {},
   "outputs": [
    {
     "name": "stdout",
     "output_type": "stream",
     "text": [
      "Point: [51 15], L1 centroid: [0 0], L2 centroid: [0 0]\n",
      "Point: [55  5], L1 centroid: [0 0], L2 centroid: [0 0]\n",
      "Point: [66  5], L1 centroid: [100  40], L2 centroid: [100  40]\n",
      "Point: [56 13], L1 centroid: [0 0], L2 centroid: [100  40]\n"
     ]
    }
   ],
   "source": [
    "import numpy as np\n",
    "\n",
    "points = np.array([[51, 15],\n",
    "                   [55,  5],\n",
    "                   [66,  5],\n",
    "                   [56, 13]])\n",
    "\n",
    "centroids = np.array([[  0,  0],\n",
    "                      [100, 40]])\n",
    "\n",
    "def l1_norm(centroid, point):\n",
    "    return sum([\n",
    "        abs(centroid[dim] - point[dim])\n",
    "        for dim in range(0, len(centroid))\n",
    "    ])\n",
    "\n",
    "def l2_norm(centroid, point):\n",
    "    return np.sqrt(sum([\n",
    "        (centroid[dim] - point[dim]) ** 2\n",
    "        for dim in range(0, len(centroid))\n",
    "    ]))\n",
    "\n",
    "def closest_centroid(centroids, point, norm_func):\n",
    "    closest = None\n",
    "    min_dist = None\n",
    "    for centroid in centroids:\n",
    "        dist = norm_func(centroid, point)\n",
    "        if closest is None or dist < min_dist:\n",
    "            closest = centroid\n",
    "            min_dist = dist\n",
    "    return closest\n",
    "\n",
    "for point in points:\n",
    "    l1_centroid = closest_centroid(centroids, point, l1_norm)\n",
    "    l2_centroid = closest_centroid(centroids, point, l2_norm)\n",
    "    print('Point: {}, L1 centroid: {}, L2 centroid: {}'.format(\n",
    "        point,\n",
    "        l1_centroid,\n",
    "        l2_centroid,\n",
    "    ))"
   ]
  },
  {
   "cell_type": "markdown",
   "metadata": {},
   "source": [
    "Suppose our data set consists of the perfect squares 1, 4, 9, 16, 25, 36, 49, and 64, which are points in one dimension. Perform a hierarchical clustering on these points, as follows. Initially, each point is in a cluster by itself. At each step, merge the two clusters with the closest centroids, and continue until only two clusters remain."
   ]
  },
  {
   "cell_type": "code",
   "execution_count": 96,
   "metadata": {},
   "outputs": [
    {
     "name": "stdout",
     "output_type": "stream",
     "text": [
      "Clusters: [[1], [4], [9], [16], [25], [36], [49], [64]]\n",
      "Centroids: [1.0, 4.0, 9.0, 16.0, 25.0, 36.0, 49.0, 64.0]\n",
      "\n",
      "Clusters: [[9], [16], [25], [36], [49], [64], [1, 4]]\n",
      "Centroids: [9.0, 16.0, 25.0, 36.0, 49.0, 64.0, 2.5]\n",
      "\n",
      "Clusters: [[16], [25], [36], [49], [64], [9, 1, 4]]\n",
      "Centroids: [16.0, 25.0, 36.0, 49.0, 64.0, 4.666666666666667]\n",
      "\n",
      "Clusters: [[36], [49], [64], [9, 1, 4], [16, 25]]\n",
      "Centroids: [36.0, 49.0, 64.0, 4.666666666666667, 20.5]\n",
      "\n",
      "Clusters: [[64], [9, 1, 4], [16, 25], [36, 49]]\n",
      "Centroids: [64.0, 4.666666666666667, 20.5, 42.5]\n",
      "\n",
      "Clusters: [[64], [36, 49], [9, 1, 4, 16, 25]]\n",
      "Centroids: [64.0, 42.5, 11.0]\n",
      "\n",
      "Clusters: [[9, 1, 4, 16, 25], [64, 36, 49]]\n",
      "Centroids: [11.0, 49.666666666666664]\n",
      "\n"
     ]
    }
   ],
   "source": [
    "points = [i ** 2 for i in range(1, 9)]\n",
    "clusters = [[p] for p in points]\n",
    "\n",
    "def calc_centroid(cluster):\n",
    "    return sum(cluster) / len(cluster)\n",
    "\n",
    "def centroid_distance(centroid1, centroid2):\n",
    "    return abs(centroid1 - centroid2)\n",
    "\n",
    "def closest_centroids(centroids):\n",
    "    closest = (None, None)\n",
    "    min_dist = None\n",
    "    for i in range(0, len(centroids)):\n",
    "        for j in range(i + 1, len(centroids)):\n",
    "            centroid1 = centroids[i]\n",
    "            centroid2 = centroids[j]\n",
    "            dist = centroid_distance(centroid1, centroid2)\n",
    "            if min_dist is None or dist < min_dist:\n",
    "                closest = (centroid1, centroid2)\n",
    "                min_dist = dist\n",
    "    return closest\n",
    "\n",
    "def merge_clusters(clusters, clusters_to_merge):\n",
    "    return [\n",
    "        c for c in clusters\n",
    "        if c[0] not in clusters_to_merge\n",
    "    ] + [clusters_to_merge]\n",
    "\n",
    "\n",
    "TARGET_NUM_CLUSTERS = 2\n",
    "\n",
    "centroids = [calc_centroid(cluster) for cluster in clusters]\n",
    "print('Clusters: {}'.format(clusters))\n",
    "print('Centroids: {}'.format(centroids))\n",
    "print()\n",
    "\n",
    "while len(clusters) > TARGET_NUM_CLUSTERS:\n",
    "    centroid1, centroid2 = closest_centroids(centroids)\n",
    "    cluster1 = clusters[centroids.index(centroid1)]\n",
    "    cluster2 = clusters[centroids.index(centroid2)]\n",
    "    clusters_to_merge = cluster1 + cluster2\n",
    "    clusters = merge_clusters(clusters, clusters_to_merge)\n",
    "    centroids = [calc_centroid(cluster) for cluster in clusters]\n",
    "    print('Clusters: {}'.format(clusters))\n",
    "    print('Centroids: {}'.format(centroids))\n",
    "    print()\n"
   ]
  },
  {
   "cell_type": "markdown",
   "metadata": {},
   "source": [
    "Suppose we want to assign points to one of two cluster centroids, either (0,0) or (100,40). Depending on whether we use the L1 or L2 norm, a point (x,y) could be clustered with a different one of these two centroids. For this problem, you should work out the conditions under which a point will be clustered with the centoid (0,0) when the L1 norm is used, but clustered with the centroid (100,40) when the L2 norm is used."
   ]
  },
  {
   "cell_type": "code",
   "execution_count": 100,
   "metadata": {},
   "outputs": [
    {
     "name": "stdout",
     "output_type": "stream",
     "text": [
      "Point: [53 10], L1 centroid: [0 0], L2 centroid: [0 0]\n",
      "Point: [54  8], L1 centroid: [0 0], L2 centroid: [0 0]\n",
      "Point: [51 18], L1 centroid: [0 0], L2 centroid: [100  40]\n",
      "Point: [51 15], L1 centroid: [0 0], L2 centroid: [0 0]\n"
     ]
    }
   ],
   "source": [
    "points = np.array([[53, 10],\n",
    "                   [54, 8],\n",
    "                   [51,  18],\n",
    "                   [51, 15]])\n",
    "\n",
    "centroids = np.array([[  0,  0],\n",
    "                      [100, 40]])\n",
    "\n",
    "for point in points:\n",
    "    l1_centroid = closest_centroid(centroids, point, l1_norm)\n",
    "    l2_centroid = closest_centroid(centroids, point, l2_norm)\n",
    "    print('Point: {}, L1 centroid: {}, L2 centroid: {}'.format(\n",
    "        point,\n",
    "        l1_centroid,\n",
    "        l2_centroid,\n",
    "    ))"
   ]
  },
  {
   "cell_type": "markdown",
   "metadata": {},
   "source": [
    "Suppose that the true data consists of three clusters, as suggested by the diagram below:"
   ]
  },
  {
   "cell_type": "code",
   "execution_count": 1,
   "metadata": {},
   "outputs": [
    {
     "data": {
      "image/png": "[encoded data removed]",
      "text/plain": [
       "<IPython.core.display.Image object>"
      ]
     },
     "execution_count": 1,
     "metadata": {},
     "output_type": "execute_result"
    }
   ],
   "source": [
    "from IPython.display import Image\n",
    "Image(filename='clusters.png')"
   ]
  },
  {
   "cell_type": "markdown",
   "metadata": {},
   "source": [
    "There is a large cluster B centered around the origin (0,0), with 8000 points uniformly distributed in a circle of radius 2. There are two small clusters, A and C, each with 1000 points uniformly distributed in a circle of radius 1. The center of A is at (-10,0) and the center of C is at (10,0).\n",
    "\n",
    "Suppose we choose three initial centroids x, y, and z, and cluster the points according to which of x, y, or z they are closest. The result will be three apparent clusters, which may or may not coincide with the true clusters A, B, and C. Say that one of the true clusters is correct if there is an apparent cluster that consists of all and only the points in that true cluster. Assuming initial centroids x, y, and z are chosen independently and at random, what is the probability that A is correct? What is the probability that C is correct? What is the probability that both are correct?"
   ]
  },
  {
   "cell_type": "code",
   "execution_count": 66,
   "metadata": {},
   "outputs": [
    {
     "name": "stdout",
     "output_type": "stream",
     "text": [
      "Probability that A is correct: 22%\n",
      "Probability that C is correct: 22%\n",
      "Probability that A & C are correct: 5%\n"
     ]
    }
   ],
   "source": [
    "A_size = 1000\n",
    "B_size = 8000\n",
    "C_size = 1000\n",
    "\n",
    "num_points = sum([A_size, B_size, C_size])\n",
    "\n",
    "prob_A = A_size / num_points\n",
    "prob_B = B_size / num_points\n",
    "prob_C = C_size / num_points\n",
    "\n",
    "# probability that A is correct is the probability\n",
    "# that only 1 of the chosen centroids is in A\n",
    "prob_A_correct = prob_A * prob_B ** 2 * 3 + prob_A * prob_B * prob_C * 3\n",
    "\n",
    "# probability that C is correct is the same as the\n",
    "# probability that A is correct, by symmetry\n",
    "prob_C_correct = prob_A_correct\n",
    "\n",
    "prob_AC_correct = prob_A_correct * prob_C_correct\n",
    "\n",
    "print('Probability that A is correct: {:.0%}'.format(prob_A_correct))\n",
    "print('Probability that C is correct: {:.0%}'.format(prob_C_correct))\n",
    "print('Probability that A & C are correct: {:.0%}'.format(prob_AC_correct))"
   ]
  },
  {
   "cell_type": "markdown",
   "metadata": {},
   "source": [
    "Perform a hierarchical clustering of the following six points:"
   ]
  },
  {
   "cell_type": "code",
   "execution_count": 2,
   "metadata": {},
   "outputs": [
    {
     "data": {
      "image/png": "[encoded data removed]",
      "text/plain": [
       "<IPython.core.display.Image object>"
      ]
     },
     "execution_count": 2,
     "metadata": {},
     "output_type": "execute_result"
    }
   ],
   "source": [
    "Image(filename='points.png')"
   ]
  },
  {
   "cell_type": "markdown",
   "metadata": {},
   "source": [
    "using the complete-link proximity measure (the distance between two clusters is the largest distance between any two points, one from each cluster)."
   ]
  },
  {
   "cell_type": "code",
   "execution_count": 88,
   "metadata": {},
   "outputs": [
    {
     "name": "stdout",
     "output_type": "stream",
     "text": [
      "Clusters: [['C'], ['D'], ['E'], ['F'], ['A', 'B']]\n",
      "Clusters: [['D'], ['E'], ['A', 'B'], ['C', 'F']]\n",
      "Clusters: [['E'], ['A', 'B'], ['D', 'C', 'F']]\n",
      "Clusters: [['D', 'C', 'F'], ['E', 'A', 'B']]\n",
      "Clusters: [['D', 'C', 'F', 'E', 'A', 'B']]\n"
     ]
    }
   ],
   "source": [
    "from first import first\n",
    "\n",
    "labels_to_points = {'A': ( 0,  0),\n",
    "                    'B': (10, 10),\n",
    "                    'C': (21, 21),\n",
    "                    'D': (33, 33),\n",
    "                    'E': ( 5, 27),\n",
    "                    'F': (28,  6)}\n",
    "\n",
    "points_to_labels = {v: k for k, v in labels_to_points.items()}\n",
    "\n",
    "clusters = [[labels_to_points[letter]] for letter in labels_to_points.keys()]\n",
    "\n",
    "def point_distance(point1, point2):\n",
    "    return np.linalg.norm(np.array(point1) - np.array(point2))\n",
    "\n",
    "def cluster_distance(cluster1, cluster2):\n",
    "    max_dist = None\n",
    "    for p1 in cluster1:\n",
    "        for p2 in cluster2:\n",
    "            dist = point_distance(p1, p2)\n",
    "            if max_dist is None or dist > max_dist:\n",
    "                max_dist = dist\n",
    "    return max_dist\n",
    "\n",
    "def closest_clusters(clusters):\n",
    "    min_dist = None\n",
    "    closest = None, None\n",
    "    for i in range(len(clusters)):\n",
    "        for j in range(i + 1, len(clusters)):\n",
    "            cluster1 = clusters[i]\n",
    "            cluster2 = clusters[j]\n",
    "            dist = cluster_distance(cluster1, cluster2)\n",
    "            if min_dist is None or dist < min_dist:\n",
    "                min_dist = dist\n",
    "                closest = cluster1, cluster2\n",
    "    return closest\n",
    "            \n",
    "def merge_clusters(clusters, clusters_to_merge):\n",
    "    merged_cluster = [p for cm in clusters_to_merge for p in cm]\n",
    "    return [c for c in clusters if c not in clusters_to_merge] + [merged_cluster]\n",
    "            \n",
    "\n",
    "TARGET_NUM_CLUSTERS = 1\n",
    "\n",
    "while len(clusters) > TARGET_NUM_CLUSTERS:\n",
    "    cluster1, cluster2 = closest_clusters(clusters)\n",
    "    clusters_to_merge = [cluster1, cluster2]\n",
    "    clusters = merge_clusters(clusters, clusters_to_merge)\n",
    "    labels = [[points_to_labels[point] for point in cluster] for cluster in clusters]\n",
    "    print('Clusters: {}'.format(labels))"
   ]
  }
 ],
 "metadata": {
  "kernelspec": {
   "display_name": "Python 3",
   "language": "python",
   "name": "python3"
  },
  "language_info": {
   "codemirror_mode": {
    "name": "ipython",
    "version": 3
   },
   "file_extension": ".py",
   "mimetype": "text/x-python",
   "name": "python",
   "nbconvert_exporter": "python",
   "pygments_lexer": "ipython3",
   "version": "3.6.5"
  }
 },
 "nbformat": 4,
 "nbformat_minor": 2
}
