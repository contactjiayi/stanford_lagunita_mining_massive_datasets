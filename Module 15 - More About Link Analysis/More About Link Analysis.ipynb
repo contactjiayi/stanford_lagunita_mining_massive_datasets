{
 "cells": [
  {
   "cell_type": "markdown",
   "metadata": {},
   "source": [
    "### Module 15: More About Link Analysis"
   ]
  },
  {
   "cell_type": "markdown",
   "metadata": {},
   "source": [
    "Consider an implementation of the Block-Stripe Algorithm discussed in Section 5.2 to compute PageRank on a graph of N nodes (i.e., Web pages). Suppose each page has, on average, 20 links, and we divide the new rank vector into k blocks (and correspondingly, the matrix M into k stripes). Each stripe of M has one line per \"source\" web page, in the format:\n",
    "\n",
    "[source_id, degree, m, dest_1,...., dest_m]\n",
    "\n",
    "Notice that we had to add an additional entry, m, to denote the number of destination nodes in this stripe, which of course is no more than the degree of the node. Assume that all entries (scores, degrees, identifiers,...) are encoded using 4 bytes.\n",
    "\n",
    "There is an additional detail we need to account for, namely, locality of links. As a very simple model, assume that we divide web pages into two disjoint sets:\n",
    "- Introvert pages, which link only to other pages within the same host as themselves.\n",
    "- Extrovert pages, which have links to pages across several hosts.\n",
    "\n",
    "Assume a fraction x of pages (0 <= x <= 1) are introverts, and the rest are extroverts. The blocks are arranged such that pages within a host are in the same block. For simplicity, assume that the links from the extrovert pages are spread uniformly across the k stripes (this is reasonably accurate for small values of k).\n",
    "\n",
    "Construct a formula that counts the amount of I/O per PageRank iteration in terms of N, x, and k.\n",
    "\n",
    "Note. There are some additional optimizations one can think of, such as striping the old score vector, encoding introvert and extrovert pages using different schemes, etc. For the purposes of working this problem, assume we don't do any optimizations beyond the block-stripe algorithm discussed in class."
   ]
  },
  {
   "cell_type": "code",
   "execution_count": 22,
   "metadata": {},
   "outputs": [
    {
     "name": "stdout",
     "output_type": "stream",
     "text": [
      "Amount of I/O per PageRank iteration for k = 3, x = 0.75: 114GB\n",
      "Amount of I/O per PageRank iteration for k = 3, x = 0.5: 120GB\n",
      "Amount of I/O per PageRank iteration for k = 2, x = 0.75: 107GB\n",
      "Amount of I/O per PageRank iteration for k = 2, x = 0.5: 110GB\n"
     ]
    }
   ],
   "source": [
    "kx_values = [(3, 0.75),\n",
    "              (3,  0.5),\n",
    "              (2, 0.75),\n",
    "              (2,  0.5)]\n",
    "\n",
    "# there are 1 billion web pages\n",
    "N = 10**9\n",
    "\n",
    "# each page has 20 links on average\n",
    "m = 20\n",
    "\n",
    "for k, x in kx_values:\n",
    "    num_introvert = N * x\n",
    "    num_extrovert = (1 - x) * N\n",
    "    # introverts link only to other pages in the same block\n",
    "    introvert_size = (3 + 20) * 4\n",
    "    total_introvert_size = num_introvert * introvert_size\n",
    "    # extroverts have links to pages spread uniformly across stripes\n",
    "    extrovert_size = (3 + m/k) * 4 * k\n",
    "    total_extrovert_size = num_extrovert * extrovert_size\n",
    "    # the PageRank vector will be read k times and written once\n",
    "    bytes_to_read_write_pagerank_vectors = 4 * (k + 1) * N\n",
    "    total_bytes = sum([\n",
    "        total_introvert_size,\n",
    "        total_extrovert_size,\n",
    "        bytes_to_read_write_pagerank_vectors,\n",
    "    ])\n",
    "    print('Amount of I/O per PageRank iteration for k = {}, x = {}: {}GB'.format(\n",
    "        k,\n",
    "        x,\n",
    "        int(total_bytes/10**9),\n",
    "    ))"
   ]
  },
  {
   "cell_type": "markdown",
   "metadata": {},
   "source": [
    "Consider the link graph"
   ]
  },
  {
   "cell_type": "code",
   "execution_count": 2,
   "metadata": {
    "scrolled": true
   },
   "outputs": [
    {
     "data": {
      "image/gif": "[encoded data removed]",
      "text/plain": [
       "<IPython.core.display.Image object>"
      ]
     },
     "execution_count": 2,
     "metadata": {},
     "output_type": "execute_result"
    }
   ],
   "source": [
    "from IPython.display import Image\n",
    "Image(filename='pagerank.gif')"
   ]
  },
  {
   "cell_type": "markdown",
   "metadata": {},
   "source": [
    "First, construct the L, the link matrix, as discussed in Section 5.5 on the HITS algorithm. Then do the following:\n",
    "1. Start by assuming the hubbiness of each node is 1; that is, the vector h is (the transpose of) [1,1,1,1].\n",
    "2. Compute an estimate of the authority vector a=L.Th.\n",
    "3. Normalize a by dividing all values so the largest value is 1.\n",
    "4. Compute an estimate of the hubbiness vector h=La.\n",
    "5. Normalize h by dividing all values so the largest value is 1.\n",
    "6. Repeat steps 2-5."
   ]
  },
  {
   "cell_type": "code",
   "execution_count": 14,
   "metadata": {},
   "outputs": [
    {
     "name": "stdout",
     "output_type": "stream",
     "text": [
      "The authority vector a is  [0.2 0.6 1.  0.2]\n",
      "The hubbiness vector h is  [1.    0.125 0.125 0.625]\n"
     ]
    }
   ],
   "source": [
    "import numpy as np\n",
    "\n",
    "L = np.array([[0, 1, 1, 0],\n",
    "              [1, 0, 0, 0],\n",
    "              [0, 0, 0, 1],\n",
    "              [0, 0, 1, 0]])\n",
    "\n",
    "h = np.array([1, 1, 1, 1]).T\n",
    "\n",
    "for i in range(0, 2):\n",
    "    a = L.T @ h\n",
    "    a = a / max(a)\n",
    "    h = L @ a\n",
    "    h = h / max(h)\n",
    "\n",
    "print('The authority vector a is ', a)\n",
    "print('The hubbiness vector h is ', h)"
   ]
  },
  {
   "cell_type": "markdown",
   "metadata": {},
   "source": [
    "Here is an example of a tiny link matrix L, as discussed in Section 5.5 on the HITS algorithm."
   ]
  },
  {
   "cell_type": "code",
   "execution_count": 16,
   "metadata": {},
   "outputs": [],
   "source": [
    "L = np.array([[1, 1],\n",
    "              [0, 1]])"
   ]
  },
  {
   "cell_type": "markdown",
   "metadata": {},
   "source": [
    "The graph represented by L has two nodes. Let [x,y] be (the transpose of) the hubbiness vector for the two nodes, in the order given by L. Using the method in Section 5.5.2, set up a matrix-vector equation for [x,y], involving an unknown scale parameter λμ. Then, solve for λμ and the ratio of x to y, each to three decimal places."
   ]
  },
  {
   "cell_type": "code",
   "execution_count": 46,
   "metadata": {},
   "outputs": [
    {
     "name": "stdout",
     "output_type": "stream",
     "text": [
      "lambda * mu = 0.382\n",
      "y = 0.618x\n"
     ]
    }
   ],
   "source": [
    "import math\n",
    "\n",
    "# h = lambda * mu * L * L.T * h\n",
    "#\n",
    "# L @ L.T = np.array([2, 1],\n",
    "#                    [1, 1])\n",
    "#\n",
    "# Let f be the scaling factor, 1 / (lambda * mu)\n",
    "# fx = 2x + y --- Equation １\n",
    "# fy =  x + y --- Equation 2\n",
    "#\n",
    "# From Equation 2:\n",
    "#  y = x / (f - 1) --- Equation 3\n",
    "# Substituting y in terms of x into Equation 1:\n",
    "#           fx = 2x + x / (f - 1)\n",
    "#     f(f - 1) = 2(f - 1) + 1\n",
    "# f^2 - 3f + 1 = 0\n",
    "# f = 3/2 - sqrt(5) / 2 and 3/2 + sqrt(5) / 2\n",
    "# Since f > 1, f = 3/2 + sqrt(5) / 2\n",
    "f = 3/2 + math.sqrt(5) / 2\n",
    "print('lambda * mu = {:.3}'.format(1/f))\n",
    "\n",
    "# From Equation 3: y = x / (f - 1)\n",
    "print('y = {:.3}x'.format(1 / (f - 1)))"
   ]
  },
  {
   "cell_type": "markdown",
   "metadata": {},
   "source": [
    "The spam-farm architecture described in Section 5.4.1 suffers from the problem that the target page has many links --- one to each supporting page. To avoid that problem, the spammer could use the architecture shown below:"
   ]
  },
  {
   "cell_type": "code",
   "execution_count": 6,
   "metadata": {},
   "outputs": [
    {
     "data": {
      "image/gif": "[encoded data removed]",
      "text/plain": [
       "<IPython.core.display.Image object>"
      ]
     },
     "execution_count": 6,
     "metadata": {},
     "output_type": "execute_result"
    }
   ],
   "source": [
    "Image(filename='spamfarm.gif')"
   ]
  },
  {
   "cell_type": "markdown",
   "metadata": {},
   "source": [
    "There, k \"second-tier\" nodes act as intermediaries. The target page t has only to link to the k second-tier pages, and each of those pages links to m/k of the m supporting pages. Each of the supporting pages links only to t (although most of these links are not shown). Suppose the taxation parameter is β = 0.85, and x is the amount of PageRank supplied from outside to the target page. Let n be the total number of pages in the Web. Finally, let y be the PageRank of target page t. If we compute the formula for y in terms of k, m, and n, we get a formula with the form\n",
    "\n",
    "y = ax + bm/n + ck/n\n",
    "\n",
    "Note: To arrive at this form, it is necessary at the last step to drop a low-order term that is a fraction of 1/n. Determine coefficients a, b, and c, remembering that β is fixed at 0.85."
   ]
  },
  {
   "cell_type": "code",
   "execution_count": 4,
   "metadata": {},
   "outputs": [
    {
     "name": "stdout",
     "output_type": "stream",
     "text": [
      "a = 2.59\n",
      "b = 0.33\n",
      "c = 0.28\n"
     ]
    }
   ],
   "source": [
    "beta = 0.85\n",
    "\n",
    "# The PageRank of t comes from 3 sources:\n",
    "# 1. The contribution x from links outside the spam farm\n",
    "# 2. beta * the PageRank of every supporting page that links to it\n",
    "# 3. (1 - beta / n), t's share of the fraction of (1 - beta), which is negligible\n",
    "\n",
    "# The PageRank of each 2nd-tier page is (beta)(y) / k + (1 - beta) / n\n",
    "# The PageRank of each supporting page is \n",
    "# beta * the PageRank of the 2nd-tier page / 3 + (1 - beta) / n\n",
    "# = (beta^2)(y) / (3k) + beta(1 - beta) / (3n)\n",
    "# = (beta^2)(y) / (3k) - (beta^2 - beta) / (3n)\n",
    "# = \n",
    "\n",
    "# Therefore the contribution to the PageRank of t\n",
    "# from the supporting pages is (beta^3)(y)(m) / (3k)\n",
    "\n",
    "# y = x + (beta^3)(y)(m) / (3k)\n",
    "\n",
    "\n",
    "a = 1 / (1 - beta**3)\n",
    "b = beta / (1 + beta + beta**2)\n",
    "c = beta**2/ (1 + beta + beta**2)\n",
    "print('a = {:.3}'.format(a))\n",
    "print('b = {:.2}'.format(b))\n",
    "print('c = {:.2}'.format(c))"
   ]
  }
 ],
 "metadata": {
  "kernelspec": {
   "display_name": "Python 3",
   "language": "python",
   "name": "python3"
  },
  "language_info": {
   "codemirror_mode": {
    "name": "ipython",
    "version": 3
   },
   "file_extension": ".py",
   "mimetype": "text/x-python",
   "name": "python",
   "nbconvert_exporter": "python",
   "pygments_lexer": "ipython3",
   "version": "3.6.5"
  }
 },
 "nbformat": 4,
 "nbformat_minor": 2
}
