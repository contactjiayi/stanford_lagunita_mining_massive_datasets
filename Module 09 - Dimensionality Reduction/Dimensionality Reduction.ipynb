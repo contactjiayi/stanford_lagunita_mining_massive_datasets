{
 "cells": [
  {
   "cell_type": "markdown",
   "metadata": {},
   "source": [
    "### Module 9: Dimensionality Reduction"
   ]
  },
  {
   "cell_type": "markdown",
   "metadata": {},
   "source": [
    "Note: In this question, all columns will be written in their transposed form, as rows, to make the typography simpler. Matrix M has three rows and three columns, and the columns form an orthonormal basis. One of the columns is [2/7,3/7,6/7], and another is [6/7, 2/7, -3/7]. Let the third column be [x,y,z]. Since the length of the vector [x,y,z] must be 1, there is a constraint that x^2+y^2+z^2 = 1. However, there are other constraints, and these other constraints can be used to deduce facts about the ratios among x, y, and z. Compute these ratios."
   ]
  },
  {
   "cell_type": "code",
   "execution_count": 36,
   "metadata": {},
   "outputs": [
    {
     "data": {
      "image/png": "[encoded data removed]",
      "text/plain": [
       "<IPython.core.display.Image object>"
      ]
     },
     "execution_count": 36,
     "metadata": {},
     "output_type": "execute_result"
    }
   ],
   "source": [
    "from IPython.display import Image\n",
    "Image(filename='matrix5.png')"
   ]
  },
  {
   "cell_type": "code",
   "execution_count": 44,
   "metadata": {},
   "outputs": [
    {
     "name": "stdout",
     "output_type": "stream",
     "text": [
      "x: +/- 3/7\n",
      "y: +/- 2/7\n",
      "z: +/- 2/7\n"
     ]
    }
   ],
   "source": [
    "import numpy as np\n",
    "from fractions import Fraction\n",
    "\n",
    "# If the columns of a matrix M are orthonormal,\n",
    "# M @ M.T = I, the identity matrix.\n",
    "# This means that the inverse of M is its transpose,\n",
    "# so the rows of the matrix are also orthonormal.\n",
    "\n",
    "x = np.sqrt(1 - (2/7)**2 - (6/7)**2)\n",
    "y = np.sqrt(1 - (3/7)**2- (6/7)**2)\n",
    "z = np.sqrt(1 - (6/7)**2 - (-3/7)**2)\n",
    "print('x: +/- {}'.format(Fraction(x).limit_denominator()))\n",
    "print('y: +/- {}'.format(Fraction(y).limit_denominator()))\n",
    "print('z: +/- {}'.format(Fraction(z).limit_denominator()))"
   ]
  },
  {
   "cell_type": "markdown",
   "metadata": {},
   "source": [
    "Find the eigenvalues and eigenvectors of the following matrix:"
   ]
  },
  {
   "cell_type": "code",
   "execution_count": 1,
   "metadata": {},
   "outputs": [
    {
     "data": {
      "image/png": "[encoded data removed]",
      "text/plain": [
       "<IPython.core.display.Image object>"
      ]
     },
     "execution_count": 1,
     "metadata": {},
     "output_type": "execute_result"
    }
   ],
   "source": [
    "Image(filename='matrix6.png')"
   ]
  },
  {
   "cell_type": "markdown",
   "metadata": {},
   "source": [
    "You should assume the first component of an eigenvector is 1."
   ]
  },
  {
   "cell_type": "code",
   "execution_count": 19,
   "metadata": {},
   "outputs": [
    {
     "name": "stdout",
     "output_type": "stream",
     "text": [
      "Eigenvalues: [ 1. 11.]\n",
      "Eigenvectors: [array([1.        , 0.33333333]), array([ 1., -3.])]\n"
     ]
    }
   ],
   "source": [
    "matrix = np.array([[2,  3],\n",
    "                   [3, 10]])\n",
    "\n",
    "eigenvalues, eigenvectors = np.linalg.eig(matrix)\n",
    "normalized_eigenvectors = [evec * 1/evec[0] for evec in eigenvectors]\n",
    "print('Eigenvalues: {}'.format(eigenvalues))\n",
    "print('Eigenvectors: {}'.format(normalized_eigenvectors))"
   ]
  },
  {
   "cell_type": "markdown",
   "metadata": {},
   "source": [
    "Suppose [1,3,4,5,7] is an eigenvector of some matrix. What is the unit eigenvector in the same direction?"
   ]
  },
  {
   "cell_type": "code",
   "execution_count": 20,
   "metadata": {},
   "outputs": [
    {
     "name": "stdout",
     "output_type": "stream",
     "text": [
      "Unit Eigenvector: [0.1 0.3 0.4 0.5 0.7]\n"
     ]
    }
   ],
   "source": [
    "eigenvector = np.array([1, 3, 4, 5, 7])\n",
    "magnitude = np.linalg.norm(eigenvector)\n",
    "print('Unit Eigenvector: {}'.format(eigenvector / magnitude))"
   ]
  },
  {
   "cell_type": "markdown",
   "metadata": {},
   "source": [
    "Suppose we have three points in a two dimensional space: (1,1), (2,2), and (3,4). We want to perform PCA on these points, so we construct a 2-by-2 matrix, call it N, whose eigenvectors are the directions that best represent these three points. Construct the matrix N."
   ]
  },
  {
   "cell_type": "code",
   "execution_count": 54,
   "metadata": {},
   "outputs": [
    {
     "name": "stdout",
     "output_type": "stream",
     "text": [
      "[[14 17]\n",
      " [17 21]]\n"
     ]
    }
   ],
   "source": [
    "points = np.array([[1, 1],\n",
    "                   [2, 2],\n",
    "                   [3, 4]])\n",
    "\n",
    "# The idea behind PCA is to treat the set of points as\n",
    "# a matrix M and find the eigenvectors for M @ M.T or M.T @ M\n",
    "print(points.T @ points)"
   ]
  },
  {
   "cell_type": "markdown",
   "metadata": {},
   "source": [
    "Consider the diagonal matrix M ="
   ]
  },
  {
   "cell_type": "code",
   "execution_count": 3,
   "metadata": {},
   "outputs": [
    {
     "data": {
      "image/png": "[encoded data removed]",
      "text/plain": [
       "<IPython.core.display.Image object>"
      ]
     },
     "execution_count": 3,
     "metadata": {},
     "output_type": "execute_result"
    }
   ],
   "source": [
    "Image(filename='matrix7.png')"
   ]
  },
  {
   "cell_type": "markdown",
   "metadata": {},
   "source": [
    "Compute its Moore-Penrose pseudoinverse."
   ]
  },
  {
   "cell_type": "code",
   "execution_count": 24,
   "metadata": {},
   "outputs": [
    {
     "name": "stdout",
     "output_type": "stream",
     "text": [
      "Pseudoinverse: [[1.0, 0.0, 0.0], [0.0, 0.5, 0.0], [0.0, 0.0, 0.0]]\n"
     ]
    }
   ],
   "source": [
    "matrix = np.array([[1, 0, 0],\n",
    "                   [0, 2, 0],\n",
    "                   [0, 0, 0]])\n",
    "\n",
    "pseudoinverse = np.linalg.pinv(matrix)\n",
    "print('Pseudoinverse: {}'.format(pseudoinverse.tolist()))"
   ]
  },
  {
   "cell_type": "markdown",
   "metadata": {},
   "source": [
    "When we perform a CUR dcomposition of a matrix, we select rows and columns by using a particular probability distribution for the rows and another for the columns. Here is a matrix that we wish to decompose:"
   ]
  },
  {
   "cell_type": "code",
   "execution_count": 4,
   "metadata": {},
   "outputs": [
    {
     "data": {
      "image/png": "[encoded data removed]",
      "text/plain": [
       "<IPython.core.display.Image object>"
      ]
     },
     "execution_count": 4,
     "metadata": {},
     "output_type": "execute_result"
    }
   ],
   "source": [
    "Image(filename='matrix8.png')"
   ]
  },
  {
   "cell_type": "markdown",
   "metadata": {},
   "source": [
    "Calculate the probability distribution for the rows."
   ]
  },
  {
   "cell_type": "code",
   "execution_count": 35,
   "metadata": {},
   "outputs": [
    {
     "name": "stdout",
     "output_type": "stream",
     "text": [
      "Probability for row [1 2 3]: 0.022\n",
      "Probability for row [4 5 6]: 0.12\n",
      "Probability for row [7 8 9]: 0.3\n",
      "Probability for row [10 11 12]: 0.56\n"
     ]
    }
   ],
   "source": [
    "matrix = np.array([[ 1,  2,  3],\n",
    "                   [ 4,  5,  6],\n",
    "                   [ 7,  8,  9],\n",
    "                   [10, 11, 12]])\n",
    "\n",
    "frobenius_norm = np.linalg.norm(matrix, ord='fro')\n",
    "sum_of_squares = frobenius_norm ** 2\n",
    "\n",
    "for row in matrix:\n",
    "    probability = np.linalg.norm(row) ** 2 / sum_of_squares\n",
    "    print('Probability for row {}: {:.2}'.format(row, probability))"
   ]
  }
 ],
 "metadata": {
  "kernelspec": {
   "display_name": "Python 3",
   "language": "python",
   "name": "python3"
  },
  "language_info": {
   "codemirror_mode": {
    "name": "ipython",
    "version": 3
   },
   "file_extension": ".py",
   "mimetype": "text/x-python",
   "name": "python",
   "nbconvert_exporter": "python",
   "pygments_lexer": "ipython3",
   "version": "3.6.5"
  }
 },
 "nbformat": 4,
 "nbformat_minor": 2
}
