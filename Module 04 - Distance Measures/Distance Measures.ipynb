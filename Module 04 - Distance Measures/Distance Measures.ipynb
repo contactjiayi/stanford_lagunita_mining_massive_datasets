{
 "cells": [
  {
   "cell_type": "markdown",
   "metadata": {},
   "source": [
    "### Module 4: Distance Measures\n",
    "\n",
    "Consider the following three vectors u, v, w in a 6-dimensional space:\n",
    "\n",
    "u = [1, 0.25, 0, 0, 0.5, 0]\n",
    "\n",
    "v = [0.75, 0, 0, 0.2, 0.4, 0]\n",
    "\n",
    "w = [0, 0.1, 0.75, 0, 0, 1]\n",
    "\n",
    "Suppose cos(x,y) denotes the similarity of vectors x and y under the cosine similarity measure. Compute all three pairwise similarities among u,v, w."
   ]
  },
  {
   "cell_type": "code",
   "execution_count": 4,
   "metadata": {},
   "outputs": [
    {
     "name": "stdout",
     "output_type": "stream",
     "text": [
      "Vectors u & v: 0.9496291235462798\n",
      "Vectors u & w: 0.01740183416297251\n",
      "Vectors v & w: 0.0\n"
     ]
    }
   ],
   "source": [
    "import numpy as np\n",
    "\n",
    "u = np.array([1, 0.25, 0, 0, 0.5, 0])\n",
    "v = np.array([0.75, 0, 0, 0.2, 0.4, 0])\n",
    "w = np.array([0, 0.1, 0.75, 0, 0, 1])\n",
    "\n",
    "vectors = [u, v, w]\n",
    "names = ['u', 'v', 'w']\n",
    "\n",
    "for i in range(0, len(vectors)):\n",
    "    for j in range(i+1, len(vectors)):\n",
    "        v1 = vectors[i]\n",
    "        v2 = vectors[j]\n",
    "        cos_sim = v1 @ v2 / (np.linalg.norm(v1) * np.linalg.norm(v2))\n",
    "        print('Vectors {} & {}: {}'.format(names[i], names[j], cos_sim))"
   ]
  },
  {
   "cell_type": "markdown",
   "metadata": {},
   "source": [
    "Here are five vectors in a 10-dimensional space:\n",
    "\n",
    "1111000000  0100100101  0000011110  0111111111  1011111111\n",
    "\n",
    "Compute the Jaccard distance (not Jaccard \"measure\") between each pair of the vectors."
   ]
  },
  {
   "cell_type": "code",
   "execution_count": 26,
   "metadata": {},
   "outputs": [
    {
     "name": "stdout",
     "output_type": "stream",
     "text": [
      "Vectors 1111000000 & 0100100101: 0.8571428571428572\n",
      "Vectors 1111000000 & 0000011110: 1.0\n",
      "Vectors 1111000000 & 0111111111: 0.7\n",
      "Vectors 1111000000 & 1011111111: 0.7\n",
      "Vectors 0100100101 & 0000011110: 0.8571428571428572\n",
      "Vectors 0100100101 & 0111111111: 0.5555555555555556\n",
      "Vectors 0100100101 & 1011111111: 0.7\n",
      "Vectors 0000011110 & 0111111111: 0.5555555555555556\n",
      "Vectors 0000011110 & 1011111111: 0.5555555555555556\n",
      "Vectors 0111111111 & 1011111111: 0.19999999999999996\n"
     ]
    }
   ],
   "source": [
    "vectors = ['1111000000', '0100100101', '0000011110', '0111111111', '1011111111']\n",
    "\n",
    "for i in range(0, len(vectors)):\n",
    "    for j in range(i+1, len(vectors)):\n",
    "        v1 = vectors[i]\n",
    "        v2 = vectors[j]\n",
    "        both_1 = sum([\n",
    "            1 for k in range(0, 10)\n",
    "            if v1[k] == v2[k] == str(1)\n",
    "        ])\n",
    "        either_1 = sum([\n",
    "            1 for k in range(0, 10)\n",
    "            if v1[k] == str(1) or v2[k] == str(1)\n",
    "        ])\n",
    "        jaccard_sim = both_1 / either_1\n",
    "        jaccard_dist = 1 - jaccard_sim\n",
    "        print('Vectors {} & {}: {}'.format(v1, v2, jaccard_dist))"
   ]
  },
  {
   "cell_type": "markdown",
   "metadata": {},
   "source": [
    "Here are five vectors in a 10-dimensional space:\n",
    "    \n",
    "1111000000  0100100101  0000011110  0111111111  1011111111\n",
    "\n",
    "Compute the Manhattan distance (L1 norm) between each two of these vectors."
   ]
  },
  {
   "cell_type": "code",
   "execution_count": 27,
   "metadata": {},
   "outputs": [
    {
     "name": "stdout",
     "output_type": "stream",
     "text": [
      "Vectors 1111000000 & 0100100101: 6\n",
      "Vectors 1111000000 & 0000011110: 8\n",
      "Vectors 1111000000 & 0111111111: 7\n",
      "Vectors 1111000000 & 1011111111: 7\n",
      "Vectors 0100100101 & 0000011110: 6\n",
      "Vectors 0100100101 & 0111111111: 5\n",
      "Vectors 0100100101 & 1011111111: 7\n",
      "Vectors 0000011110 & 0111111111: 5\n",
      "Vectors 0000011110 & 1011111111: 5\n",
      "Vectors 0111111111 & 1011111111: 2\n"
     ]
    }
   ],
   "source": [
    "vectors = ['1111000000', '0100100101', '0000011110', '0111111111', '1011111111']\n",
    "\n",
    "for i in range(0, len(vectors)):\n",
    "    for j in range(i+1, len(vectors)):\n",
    "        v1 = vectors[i]\n",
    "        v2 = vectors[j]\n",
    "        manhattan_dist = sum([\n",
    "            1 for k in range(0, 10)\n",
    "            if v1[k] != v2[k]\n",
    "        ])\n",
    "        print('Vectors {} & {}: {}'.format(v1, v2, manhattan_dist))"
   ]
  },
  {
   "cell_type": "markdown",
   "metadata": {},
   "source": [
    "The edit distance is the minimum number of character insertions and character deletions required to turn one string into another. Compute the edit distance between each pair of the strings he, she, his, and hers. "
   ]
  },
  {
   "cell_type": "code",
   "execution_count": 42,
   "metadata": {},
   "outputs": [
    {
     "name": "stdout",
     "output_type": "stream",
     "text": [
      "Strings he & she: 1\n",
      "Strings he & his: 3\n",
      "Strings he & hers: 2\n",
      "Strings she & his: 4\n",
      "Strings she & hers: 3\n",
      "Strings his & hers: 3\n"
     ]
    }
   ],
   "source": [
    "strings = ['he', 'she', 'his', 'hers']\n",
    "\n",
    "def lcs(s1, s2):\n",
    "    if len(s1) == 0 or len(s2) == 0:\n",
    "        return ''\n",
    "    elif s1[-1] == s2[-1]:\n",
    "        return lcs(s1[0:-1], s2[0:-1]) + s1[-1]        \n",
    "    else:\n",
    "        seq1 = lcs(s1, s2[0:-1])\n",
    "        seq2 = lcs(s1[0:-1], s2)\n",
    "        return seq1 if len(seq1) > len(seq2) else seq2\n",
    "    \n",
    "for i in range(0, len(strings)):\n",
    "    for j in range(i+1, len(strings)):\n",
    "        s1 = strings[i]\n",
    "        s2 = strings[j]\n",
    "        longest_common_subseq = lcs(s1, s2)\n",
    "        edit_dist = len(s1) + len(s2) - 2 * len(longest_common_subseq)\n",
    "        print('Strings {} & {}: {}'.format(s1, s2, edit_dist))"
   ]
  }
 ],
 "metadata": {
  "kernelspec": {
   "display_name": "Python 3",
   "language": "python",
   "name": "python3"
  },
  "language_info": {
   "codemirror_mode": {
    "name": "ipython",
    "version": 3
   },
   "file_extension": ".py",
   "mimetype": "text/x-python",
   "name": "python",
   "nbconvert_exporter": "python",
   "pygments_lexer": "ipython3",
   "version": "3.6.5"
  }
 },
 "nbformat": 4,
 "nbformat_minor": 2
}
