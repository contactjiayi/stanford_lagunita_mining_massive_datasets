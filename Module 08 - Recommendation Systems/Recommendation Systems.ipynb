{
 "cells": [
  {
   "cell_type": "markdown",
   "metadata": {},
   "source": [
    "### Module 8: Recommendation Systems"
   ]
  },
  {
   "cell_type": "markdown",
   "metadata": {},
   "source": [
    "Here is a table of 1-5 star ratings for five movies (M, N, P. Q. R) by three raters (A, B, C)."
   ]
  },
  {
   "cell_type": "code",
   "execution_count": 2,
   "metadata": {},
   "outputs": [
    {
     "data": {
      "image/png": "[encoded data removed]",
      "text/plain": [
       "<IPython.core.display.Image object>"
      ]
     },
     "execution_count": 2,
     "metadata": {},
     "output_type": "execute_result"
    }
   ],
   "source": [
    "from IPython.display import Image\n",
    "Image(filename='ratings.png')"
   ]
  },
  {
   "cell_type": "markdown",
   "metadata": {},
   "source": [
    "Normalize the ratings by subtracting the average for each row and then subtracting the average for each column in the resulting table. Then, identify the true statement about the normalized table."
   ]
  },
  {
   "cell_type": "code",
   "execution_count": 97,
   "metadata": {},
   "outputs": [
    {
     "name": "stdout",
     "output_type": "stream",
     "text": [
      "[[-1.33333333 -1.          0.          0.33333333  2.        ]\n",
      " [-0.33333333  0.         -1.          1.33333333  0.        ]\n",
      " [ 1.66666667  1.          1.         -1.66666667 -2.        ]]\n"
     ]
    }
   ],
   "source": [
    "import numpy as np\n",
    "\n",
    "ratings = np.array([[1, 2, 3, 4, 5],\n",
    "                    [2, 3, 2, 5, 3],\n",
    "                    [5, 5, 5, 3, 2]])\n",
    "\n",
    "row_means = np.mean(ratings, axis=1)\n",
    "# add new axis: (3,) => (3, 1)\n",
    "row_means = row_means[:,np.newaxis]\n",
    "normalized_ratings = ratings - row_means\n",
    "\n",
    "col_means = np.mean(normalized_ratings, axis=0)\n",
    "normalized_ratings = normalized_ratings - col_means\n",
    "print(normalized_ratings)"
   ]
  },
  {
   "cell_type": "markdown",
   "metadata": {},
   "source": [
    "Below is a table giving the profile of three items."
   ]
  },
  {
   "cell_type": "code",
   "execution_count": 4,
   "metadata": {},
   "outputs": [
    {
     "data": {
      "image/png": "[encoded data removed]",
      "text/plain": [
       "<IPython.core.display.Image object>"
      ]
     },
     "execution_count": 4,
     "metadata": {},
     "output_type": "execute_result"
    }
   ],
   "source": [
    "Image(filename='profiles.png')"
   ]
  },
  {
   "cell_type": "markdown",
   "metadata": {},
   "source": [
    "The first five attributes are Boolean, and the last is an integer \"rating.\" Assume that the scale factor for the rating is α. Compute, as a function of α, the cosine distances between each pair of profiles. For each of α = 0, 0.5, 1, and 2, determine the cosine of the angle between each pair of vectors."
   ]
  },
  {
   "cell_type": "code",
   "execution_count": 5,
   "metadata": {},
   "outputs": [
    {
     "name": "stdout",
     "output_type": "stream",
     "text": [
      "Cosine angle between A and B, with scale factor 0: 0.67\n",
      "Cosine angle between A and C, with scale factor 0: 0.0\n",
      "Cosine angle between B and C, with scale factor 0: 0.41\n",
      "Cosine angle between A and B, with scale factor 0.5: 0.72\n",
      "Cosine angle between A and C, with scale factor 0.5: 0.29\n",
      "Cosine angle between B and C, with scale factor 0.5: 0.67\n",
      "Cosine angle between A and B, with scale factor 1: 0.85\n",
      "Cosine angle between A and C, with scale factor 1: 0.62\n",
      "Cosine angle between B and C, with scale factor 1: 0.85\n",
      "Cosine angle between A and B, with scale factor 2: 0.95\n",
      "Cosine angle between A and C, with scale factor 2: 0.87\n",
      "Cosine angle between B and C, with scale factor 2: 0.95\n"
     ]
    }
   ],
   "source": [
    "item_labels = ['A', 'B', 'C']\n",
    "\n",
    "item_profiles = np.array([[1, 0, 1, 0, 1, 2],\n",
    "                          [1, 1, 0, 0, 1, 6],\n",
    "                          [0, 1, 0, 1, 0, 2]])\n",
    "\n",
    "scale_factors = [0, 0.5, 1, 2]\n",
    "\n",
    "def magnitude(v):\n",
    "    return np.sqrt(v @ v.T)\n",
    "\n",
    "def cosine_angle(v1, v2):\n",
    "    return (v1 @ v2) / (magnitude(v1) * magnitude(v2)) \n",
    "\n",
    "for alpha in scale_factors:\n",
    "    for i in range(0, len(item_profiles)):\n",
    "        for j in range(i + 1, len(item_profiles)):\n",
    "            item1 = np.copy(item_profiles[i])\n",
    "            item2 = np.copy(item_profiles[j])\n",
    "            item1[-1] *= alpha\n",
    "            item2[-1] *= alpha\n",
    "            cos_sim = cosine_angle(item1, item2)\n",
    "            print('Cosine angle between {} and {}, with scale factor {}: {:.2}'.format(\n",
    "                item_labels[i],\n",
    "                item_labels[j],\n",
    "                alpha,\n",
    "                cos_sim,\n",
    "            ))"
   ]
  },
  {
   "cell_type": "markdown",
   "metadata": {},
   "source": [
    "Below is a utility matrix representing ratings by users A, B, and C for items a through h."
   ]
  },
  {
   "cell_type": "code",
   "execution_count": 6,
   "metadata": {},
   "outputs": [
    {
     "data": {
      "image/png": "[encoded data removed]",
      "text/plain": [
       "<IPython.core.display.Image object>"
      ]
     },
     "execution_count": 6,
     "metadata": {},
     "output_type": "execute_result"
    }
   ],
   "source": [
    "Image(filename='utilities.png')"
   ]
  },
  {
   "cell_type": "markdown",
   "metadata": {},
   "source": [
    "Treat ratings of 3, 4, and 5 as 1 and 1, 2, and blank as 0. Compute the Jaccard distance between each pair of items. Then, cluster the items hierarchically into four clusters, using the Jaccard distance. When a cluster consists of more than one item, take the distance between clusters to be the minimum over all pairs of items, one from each cluster, of the Jaccard distance between those items. Break ties lexicographically. That is, sort the items that would be merged alphabetically, and merge those clusters whose resulting set would be first alphabetically. Then, identify one of the resulting clusters in the list below.\n",
    "\n",
    "Note: if you are not familiar with hierarchical clustering, you might want to wait until Video 59 in Week 5, or read Sect. 7.2 of the MMDS book."
   ]
  },
  {
   "cell_type": "code",
   "execution_count": 44,
   "metadata": {},
   "outputs": [
    {
     "name": "stdout",
     "output_type": "stream",
     "text": [
      "a: [[1], [0], [0]]\n",
      "b: [[1], [1], [0]]\n",
      "c: [[0], [1], [0]]\n",
      "d: [[1], [1], [1]]\n",
      "e: [[0], [0], [0]]\n",
      "f: [[0], [0], [1]]\n",
      "g: [[1], [0], [1]]\n",
      "h: [[0], [0], [1]]\n",
      "Cluster 1: ['c']\n",
      "Cluster 2: ['e']\n",
      "Cluster 3: ['f', 'h']\n",
      "Cluster 4: ['a', 'g', 'b', 'd']\n"
     ]
    }
   ],
   "source": [
    "from collections import defaultdict\n",
    "from first import first\n",
    "\n",
    "ITEM_LABELS = [letter for letter in 'abcdefgh']\n",
    "\n",
    "ratings = np.array([[4, 5, 0, 5, 1, 0, 3, 2],\n",
    "                    [0, 3, 4, 3, 1, 2, 1, 0],\n",
    "                    [2, 0, 1, 3, 0, 4, 5, 3]])\n",
    "\n",
    "TARGET_NUM_CLUSTERS = 4\n",
    "\n",
    "boolean_ratings = np.copy(ratings)\n",
    "boolean_ratings[boolean_ratings <= 2] = 0\n",
    "boolean_ratings[boolean_ratings >= 3] = 1\n",
    "\n",
    "def jaccard_distance(v1, v2):\n",
    "    intersection = np.logical_and(v1, v2)\n",
    "    union = np.logical_or(v1, v2)\n",
    "    return 1 - np.sum(intersection) / np.sum(union)\n",
    "\n",
    "def jaccard_distance_dict(items):\n",
    "    jaccard_distances = defaultdict(defaultdict)\n",
    "\n",
    "    for i in range(0, len(items)):\n",
    "        for j in range(i + 1, len(items)):\n",
    "            item1, label1 = items[i], ITEM_LABELS[i]\n",
    "            item2, label2 = items[j], ITEM_LABELS[j]\n",
    "            jaccard_dist = jaccard_distance(item1, item2)\n",
    "            jaccard_distances[label1][label2] = jaccard_dist\n",
    "\n",
    "    return jaccard_distances\n",
    "\n",
    "def item_label(item):\n",
    "    for idx, el in enumerate(ITEMS):\n",
    "        if item is el:\n",
    "            return ITEM_LABELS[idx]\n",
    "\n",
    "def cluster_distance(cluster1, cluster2):\n",
    "    min_distance = None\n",
    "\n",
    "    for item1 in cluster1:\n",
    "        for item2 in cluster2:\n",
    "            label1 = min(item_label(item1), item_label(item2))\n",
    "            label2 = max(item_label(item1), item_label(item2))\n",
    "            distance = 0 if label1 == label2 else JACCARD_DISTANCES[label1][label2]\n",
    "            if min_distance is None or distance < min_distance:\n",
    "                min_distance = distance\n",
    "\n",
    "    return min_distance\n",
    "\n",
    "def closest_clusters(clusters):\n",
    "    min_distance = None\n",
    "    selected_clusters = None, None\n",
    "\n",
    "    for i in range(0, len(clusters)):\n",
    "        for j in range(i + 1, len(clusters)):\n",
    "            cluster1 = clusters[i]\n",
    "            cluster2 = clusters[j]\n",
    "            distance = cluster_distance(cluster1, cluster2)\n",
    "            if min_distance is None or distance < min_distance:\n",
    "                min_distance = distance\n",
    "                selected_clusters = cluster1, cluster2\n",
    "\n",
    "    return list(selected_clusters)\n",
    "\n",
    "def merge_clusters(clusters, closest_clusters):\n",
    "    copy = [c for c in clusters]\n",
    "    for i, c in enumerate(copy):\n",
    "        for cc in closest_clusters:\n",
    "            if c is cc:\n",
    "                del copy[i]\n",
    "                break\n",
    "    return copy + [[c for cc in closest_clusters for c in cc]]\n",
    "\n",
    "ITEMS = np.split(boolean_ratings, 8, axis=1)\n",
    "JACCARD_DISTANCES = jaccard_distance_dict(ITEMS)\n",
    "\n",
    "# a cluster is a list of the items in it\n",
    "clusters = [[item] for item in ITEMS]\n",
    "num_clusters = len(clusters)\n",
    "\n",
    "while num_clusters > TARGET_NUM_CLUSTERS:\n",
    "    clusters_to_merge = closest_clusters(clusters)\n",
    "    clusters = merge_clusters(clusters, clusters_to_merge)\n",
    "    num_clusters = len(clusters)\n",
    "\n",
    "for item in ITEMS:\n",
    "    print('{}: {}'.format(item_label(item), item.tolist()))\n",
    "    \n",
    "for idx, cluster in enumerate(clusters):\n",
    "    items = [item_label(item) for item in cluster]\n",
    "    print('Cluster {}: {}'.format(idx + 1, items))"
   ]
  },
  {
   "cell_type": "markdown",
   "metadata": {},
   "source": [
    "We want to do an approximate UV-decomposition of the matrix M ="
   ]
  },
  {
   "cell_type": "code",
   "execution_count": 8,
   "metadata": {},
   "outputs": [
    {
     "data": {
      "image/png": "[encoded data removed]",
      "text/plain": [
       "<IPython.core.display.Image object>"
      ]
     },
     "execution_count": 8,
     "metadata": {},
     "output_type": "execute_result"
    }
   ],
   "source": [
    "Image(filename='matrix4.png')"
   ]
  },
  {
   "cell_type": "markdown",
   "metadata": {},
   "source": [
    "We shall use only a single column for U and a single row for V, so the goal is to make the product UV as close as possible to M. Initially, we shall set V to [5,5,5] and make the entries of U unknown. Then in the first step, we choose the values of x, y, and z that minimize the root-mean-square error (RMSE) between the product"
   ]
  },
  {
   "cell_type": "code",
   "execution_count": 9,
   "metadata": {},
   "outputs": [
    {
     "data": {
      "image/png": "[encoded data removed]",
      "text/plain": [
       "<IPython.core.display.Image object>"
      ]
     },
     "execution_count": 9,
     "metadata": {},
     "output_type": "execute_result"
    }
   ],
   "source": [
    "Image(filename='product.png')"
   ]
  },
  {
   "cell_type": "markdown",
   "metadata": {},
   "source": [
    "and the matrix M.\n",
    "\n",
    "Find the values of x, y, and z that minimize the RMSE."
   ]
  },
  {
   "cell_type": "code",
   "execution_count": 82,
   "metadata": {},
   "outputs": [
    {
     "name": "stdout",
     "output_type": "stream",
     "text": [
      "The optimal values of U are: [0, 1, 2], with RMSE 1.8\n"
     ]
    }
   ],
   "source": [
    "M = np.array([[1, 2, 3],\n",
    "              [4, 5, 6],\n",
    "              [7, 8, 9]])\n",
    "\n",
    "avg_val = np.sum(M) / np.count_nonzero(M)\n",
    "\n",
    "U = np.array([avg_val] * 3).reshape(3, 1)\n",
    "V = np.array([5, 5, 5]).reshape(1, 3)\n",
    "\n",
    "def rmse(m1, m2):\n",
    "    sum_sq_errors = np.sum(np.square(m1 - m2))\n",
    "    return np.sqrt(sum_sq_errors / m1.size)\n",
    "\n",
    "P = U @ V\n",
    "min_rmse = rmse(M, P)\n",
    "optimals = [avg_val] * 3\n",
    "\n",
    "# brute-force solution\n",
    "for x in range(0, 10):\n",
    "    for y in range(0, 10):\n",
    "        for z in range(0, 10):\n",
    "            U = np.array([x, y, z]).reshape(3, 1)\n",
    "            P = U @ V\n",
    "            error = rmse(M, P)\n",
    "            if error < min_rmse:\n",
    "                min_rmse = error\n",
    "                optimals = [x, y, z]\n",
    "                \n",
    "print('The optimal values of U are: {}, with RMSE {:.2}'.format(optimals, min_rmse))"
   ]
  }
 ],
 "metadata": {
  "kernelspec": {
   "display_name": "Python 3",
   "language": "python",
   "name": "python3"
  },
  "language_info": {
   "codemirror_mode": {
    "name": "ipython",
    "version": 3
   },
   "file_extension": ".py",
   "mimetype": "text/x-python",
   "name": "python",
   "nbconvert_exporter": "python",
   "pygments_lexer": "ipython3",
   "version": "3.6.5"
  }
 },
 "nbformat": 4,
 "nbformat_minor": 2
}
