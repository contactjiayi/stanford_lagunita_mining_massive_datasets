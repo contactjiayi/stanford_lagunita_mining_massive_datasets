{
 "cells": [
  {
   "cell_type": "markdown",
   "metadata": {},
   "source": [
    "### Module 12: Machine Learning"
   ]
  },
  {
   "cell_type": "markdown",
   "metadata": {},
   "source": [
    "The first two questions involve the following dataset, which has two positive points (purple squares) and two negative points (green circles)."
   ]
  },
  {
   "cell_type": "code",
   "execution_count": 1,
   "metadata": {},
   "outputs": [
    {
     "data": {
      "image/png": "[encoded data removed]",
      "text/plain": [
       "<IPython.core.display.Image object>"
      ]
     },
     "execution_count": 1,
     "metadata": {},
     "output_type": "execute_result"
    }
   ],
   "source": [
    "from IPython.display import Image\n",
    "Image(filename='svm.png')"
   ]
  },
  {
   "cell_type": "markdown",
   "metadata": {},
   "source": [
    "That is, the training data set consists of:\n",
    "- (x1,y1) = ((5,4),+1)\n",
    "- (x2,y2) = ((8,3),+1)\n",
    "- (x3,y3) = ((7,2),-1)\n",
    "- (x4,y4) = ((3,3),-1)"
   ]
  },
  {
   "cell_type": "markdown",
   "metadata": {},
   "source": [
    "This data set is separable. If we call the horizontal axis of the space u and the vertical axis v, then a form of the decision boundary is v=c+au. Note that in this form, c is the intersection of the boundary with the vertical (v) axis, and a is the slope.\n",
    "\n",
    "In all cases, if (u,v) is one of the points x1 or x2, then the point will be above the boundary (that is, if x1 = (u,v), then v >= c+au, and similarly for x2). Likewise, x3 and x4 must be below the boundary.\n",
    "\n",
    "Various values of a and c could be chosen, but there are significant constraints on what a and c can be. Deduce those constraints."
   ]
  },
  {
   "cell_type": "code",
   "execution_count": 14,
   "metadata": {},
   "outputs": [
    {
     "name": "stdout",
     "output_type": "stream",
     "text": [
      "c: 5, a: -2/5\n"
     ]
    }
   ],
   "source": [
    "from fractions import Fraction\n",
    "\n",
    "points = [(5, 4,  1),\n",
    "          (8, 3,  1),\n",
    "          (3, 3, -1),\n",
    "          (7, 2, -1)]\n",
    "\n",
    "possible_values = [(6, -1/3),\n",
    "                   (6, -3/5),\n",
    "                   (4, -1/9),\n",
    "                   (5, -2/5)]\n",
    "\n",
    "for c, a in possible_values:\n",
    "    is_possible = True\n",
    "    for u, v, result in points:\n",
    "        boundary = c + a * u\n",
    "        if v >= boundary and result != 1:\n",
    "            is_possible = False\n",
    "        elif v < boundary and result != -1:\n",
    "            is_possible = False\n",
    "    if is_possible:\n",
    "        print('c: {}, a: {}'.format(c, Fraction(a).limit_denominator()))"
   ]
  },
  {
   "cell_type": "markdown",
   "metadata": {},
   "source": [
    "Our goal is to find the maximum-margin linear classifier for this data. In easy cases, the shortest line between a positive and negative point has a perpendicular bisector that separates the points. If so, the perpendicular bisector is surely the maximum-margin separator. Alas, in this case, the closest pair of positive and negative points, x2 and x3, have a perpendicular bisector that misclassifies x1 as negative, so that won't work.\n",
    "\n",
    "The next-best possibility is that we can find a pair of points on one side (i.e., either two positive or two negative points) such that a line parallel to the line through these points is the maximum-margin separator. In these cases, the limit to how far from the two points the parallel line can get is determined by the closest (to the line between the two points) of the points on the other side. For our simple data set, this situation holds.\n",
    "\n",
    "Consider all possibilities for boundaries of this type, and express the boundary as w.x+b=0, such that w.x+b>=1 for positive points x and w.x+b<=-1 for negative points x. Assume that w = (w1,w2)."
   ]
  },
  {
   "cell_type": "code",
   "execution_count": 61,
   "metadata": {},
   "outputs": [
    {
     "name": "stdout",
     "output_type": "stream",
     "text": [
      "Length of w_positive: 2.5\n",
      "Length of w_negative: 2.7\n",
      "w1 = 0.5, w2 = 1.5, b = -5\n"
     ]
    }
   ],
   "source": [
    "import math\n",
    "import numpy as np\n",
    "\n",
    "positive_points = np.array([[5, 4],\n",
    "                           [8, 3]])\n",
    "\n",
    "negative_points = np.array([[3, 3],\n",
    "                           [7, 2]])\n",
    "\n",
    "def distance_to_line(a, b, p):\n",
    "    \"\"\"The line spans the points a and b.\"\"\"\n",
    "    vec_pb = np.array(b - p)\n",
    "    vec_ab = np.array(b - a)\n",
    "    # scalar projection of u onto v is u @ v / v @ v\n",
    "    scalar_proj = (vec_pb @ vec_ab) / (vec_ab @ vec_ab)\n",
    "    # make use of Pythagoras's theorem, since the shortest distance\n",
    "    # is the magnitude of the line orthogonal to the line spanned\n",
    "    # by the points a and b.\n",
    "    proj_len = np.linalg.norm(scalar_proj)\n",
    "    pb_len = np.linalg.norm(p-b)\n",
    "    return math.sqrt(pb_len - proj_len)\n",
    "\n",
    "def closest_point(points, a, b):\n",
    "    \"\"\"The line spans the points a and b.\"\"\"\n",
    "    min_dist = None\n",
    "    closest = None\n",
    "    for point in points:\n",
    "        dist = distance_to_line(a, b, point)\n",
    "        if min_dist is None or dist < min_dist:\n",
    "            min_dist = dist\n",
    "            closest = point\n",
    "    return closest\n",
    "\n",
    "# v = (-1/3) * u + 17/3\n",
    "positive_grad, positive_intercept = np.polyfit(\n",
    "    [pt[0] for pt in positive_points],\n",
    "    [pt[1] for pt in positive_points],\n",
    "    deg=1,\n",
    ")\n",
    "closest_x1_x2 = closest_point(negative_points, *positive_points)\n",
    "# x3: (7, 2) is the negative point closest to the line x1 - x2\n",
    "# v = (-1/3) * u + 13/3\n",
    "intercept_1 = 2 + (1/3) * 7\n",
    "# average the intercepts to get the parallel line between these 2 lines\n",
    "# the intercept of the parallel line turns out to be 5\n",
    "parallel_intercept_1 = np.mean([positive_intercept, intercept_1])\n",
    "# therefore the equation of the parallel line is:\n",
    "# v = (-1/3) * u + 5 \n",
    "w_positive = [1/3, 1]\n",
    "b_positive = -5\n",
    "# w @ x + b >= 1 for the positive points\n",
    "scaling_factor = 1 / (w_positive @ positive_points[0] + b_positive)\n",
    "w_positive *= np.array(scaling_factor)\n",
    "\n",
    "# # v = (-1/4) * u + 15/4\n",
    "negative_grad, negative_intercept = np.polyfit(\n",
    "    [pt[0] for pt in negative_points],\n",
    "    [pt[1] for pt in negative_points],\n",
    "    deg=1,\n",
    ")\n",
    "closest_x3_x4 = closest_point(positive_points, *negative_points)\n",
    "# x2: (8, 3) is the positive point closest to the line x3 - x4\n",
    "# parallel line: v = (-1/4) * u + 5\n",
    "intercept_2 = 3 + (1/4) * 8\n",
    "# average the intercepts to get the parallel line between these 2 lines\n",
    "# the intercept of the parallel line turns out to be 35/8\n",
    "parallel_intercept_2 = np.mean([negative_intercept, intercept_2])\n",
    "# therefore the equation of the parallel line is:\n",
    "# v = (-1/4) * u + 35/8 \n",
    "w_negative = [1/4, 1]\n",
    "b_negative = -35/8\n",
    "# w @ x + b >= 1 for the positive points\n",
    "scaling_factor = 1 / (w_negative @ negative_points[0] + b_negative)\n",
    "w_negative *= np.array(scaling_factor)\n",
    "\n",
    "# there are 2 candidate lines for the max-margin separator:\n",
    "# v = (-1/3) * u + 13/3\n",
    "# v = (-1/4) * u + 5\n",
    "# the correct one is the one with the smaller length of w\n",
    "print('Length of w_positive: {:.2}'.format(w_positive @ w_positive))\n",
    "print('Length of w_negative: {:.2}'.format(w_negative @ w_negative))\n",
    "print('w1 = {:.2}, w2 = {:.2}, b = {}'.format(*w_positive, b_positive))"
   ]
  },
  {
   "cell_type": "markdown",
   "metadata": {},
   "source": [
    "Below we see a set of 20 points and a decision tree for classifying the points."
   ]
  },
  {
   "cell_type": "code",
   "execution_count": 2,
   "metadata": {},
   "outputs": [
    {
     "data": {
      "image/png": "[encoded data removed]",
      "text/plain": [
       "<IPython.core.display.Image object>"
      ]
     },
     "execution_count": 2,
     "metadata": {},
     "output_type": "execute_result"
    }
   ],
   "source": [
    "Image(filename='grid.png')"
   ]
  },
  {
   "cell_type": "code",
   "execution_count": 3,
   "metadata": {},
   "outputs": [
    {
     "data": {
      "image/png": "[encoded data removed]",
      "text/plain": [
       "<IPython.core.display.Image object>"
      ]
     },
     "execution_count": 3,
     "metadata": {},
     "output_type": "execute_result"
    }
   ],
   "source": [
    "Image(filename='tree.png')"
   ]
  },
  {
   "cell_type": "markdown",
   "metadata": {},
   "source": [
    "To be precise, the 20 points represent (Age,Salary) pairs of people who do or do not buy gold jewelry. Age (abbreviated A in the decision tree) is the x-axis, and Salary (S in the tree) is the y-axis. Those that do are represented by gold points, and those that do not by green points. The 10 points of gold-jewelry buyers are:\n",
    "(28,145), (38,115), (43,83), (50,130), (50,90), (50,60), (50,30), (55,118), (63,88), and (65,140).\n",
    "\n",
    "The 10 points of those that do not buy gold jewelry are:\n",
    "(23,40), (25,125), (29,97), (33,22), (35,63), (42,57), (44, 105), (55,63), (55,20), and (64,37).\n",
    "\n",
    "Some of these points are correctly classified by the decision tree and some are not. Determine the classification of each point"
   ]
  },
  {
   "cell_type": "code",
   "execution_count": 7,
   "metadata": {},
   "outputs": [
    {
     "name": "stdout",
     "output_type": "stream",
     "text": [
      "Person (43, 83) is actually not a buyer.\n",
      "Person (50, 60) is actually not a buyer.\n",
      "Person (50, 30) is actually not a buyer.\n",
      "Person　(25, 125) is actually a buyer\n"
     ]
    }
   ],
   "source": [
    "buyers = [(28, 145),\n",
    "          (38, 115),\n",
    "          (43,  83),\n",
    "          (50, 130),\n",
    "          (50,  90),\n",
    "          (50,  60),\n",
    "          (50,  30),\n",
    "          (55, 118),\n",
    "          (63,  88),\n",
    "          (65, 140)]\n",
    "\n",
    "non_buyers = [(23,  40),\n",
    "              (25, 125),\n",
    "              (29,  97),\n",
    "              (33,  22),\n",
    "              (35,  63),\n",
    "              (42,  57),\n",
    "              (44, 105),\n",
    "              (55,  63),\n",
    "              (55,  20),\n",
    "              (64,  37)]\n",
    "\n",
    "def is_buyer(point):\n",
    "    age, salary = point\n",
    "    if age < 45:\n",
    "        if salary < 110:\n",
    "            return False\n",
    "        return True\n",
    "    else:\n",
    "        if salary < 75:\n",
    "            return False\n",
    "        return True\n",
    "    \n",
    "for buyer in buyers:\n",
    "    if not is_buyer(buyer):\n",
    "        print('Person {} is actually not a buyer.'.format(buyer))\n",
    "for non_buyer in non_buyers:\n",
    "    if is_buyer(non_buyer):\n",
    "        print('Person　{} is actually a buyer'.format(non_buyer))"
   ]
  },
  {
   "cell_type": "markdown",
   "metadata": {},
   "source": [
    "Consider the process of building a binary classifier based on a decision-tree model using the Gini Index as a measure of impurity associated with a tree node that represents a subset of training examples. A node is split into partitions represented by its child nodes based on the values of a selected attribute. The goodness of the attribute for the split, referred to as gain of the attribute, is estimated in terms of the difference between the impurity of the parent node and the weighted sum of the impurities of the child nodes.\n",
    "\n",
    "Consider the training set of examples described in terms of three attributes A1, A2 and A3 in addition to the decision attribute, Class Label."
   ]
  },
  {
   "cell_type": "code",
   "execution_count": 6,
   "metadata": {},
   "outputs": [
    {
     "data": {
      "image/png": "[encoded data removed]",
      "text/plain": [
       "<IPython.core.display.Image object>"
      ]
     },
     "execution_count": 6,
     "metadata": {},
     "output_type": "execute_result"
    }
   ],
   "source": [
    "Image(filename='examples.png')"
   ]
  },
  {
   "cell_type": "markdown",
   "metadata": {},
   "source": [
    "The first three columns of the table represent the values of the three binary attributes and the last column indicates whether the element (described by the row) is a positive example of the class or not (+ indicates a positive example). The classifier aims at classifying the training examples into positive or negative examples of the class under consideration.\n",
    "\n",
    "Estimate the goodness of the attributes for splitting the training set given in the table."
   ]
  },
  {
   "cell_type": "code",
   "execution_count": 43,
   "metadata": {},
   "outputs": [
    {
     "name": "stdout",
     "output_type": "stream",
     "text": [
      "Information gain for A1: 0.006800320505947477\n",
      "Information gain for A2: 0.4113620263888882\n",
      "Information gain for A3: 0.006800320505947477\n"
     ]
    }
   ],
   "source": [
    "import math\n",
    "\n",
    "examples = [(False, False, False, 1),\n",
    "            (False, False,  True, 1),\n",
    "            (False,  True, False, 0),\n",
    "            (False,  True,  True, 0),\n",
    "            ( True, False, False, 1),\n",
    "            ( True, False,  True, 1),\n",
    "            ( True,  True, False, 1),\n",
    "            ( True,  True,  True, 0)]\n",
    "\n",
    "def calc_entropy(examples):\n",
    "    entropy = 0\n",
    "    distinct_values = set(examples)\n",
    "    for val in distinct_values:\n",
    "        p = sum([1 for ex in examples if ex == val]) / len(examples)\n",
    "        log_p = math.log(p)\n",
    "        entropy += p * log_p\n",
    "    return -entropy\n",
    "        \n",
    "entropy_result = calc_entropy([ex[3] for ex in examples])\n",
    "for i in range(0, 3):\n",
    "    cond_entropy = sum([\n",
    "        0.5 * calc_entropy([ex[i] for ex in examples if ex[3] == 1]),\n",
    "        0.5 * calc_entropy([ex[i] for ex in examples if ex[3] == 0])\n",
    "    ])\n",
    "    info_gain = entropy_result - cond_entropy\n",
    "    print('Information gain for A{}: {}'.format(i + 1, info_gain))"
   ]
  },
  {
   "cell_type": "markdown",
   "metadata": {},
   "source": [
    "Suppose our training set consists of the three negative points (1,4), (3,3), and (3,1) and the two positive points (3,6) and (5,3). If we use nearest-neighbor learning, where we classify a point to be in the class of the nearest member of the training set, what is the boundary between the positive and negative points?"
   ]
  },
  {
   "cell_type": "code",
   "execution_count": 15,
   "metadata": {},
   "outputs": [
    {
     "name": "stdout",
     "output_type": "stream",
     "text": [
      "Point (3.6, 4.1) is classified as negative\n",
      "Point (3.9, 4.1) is classified as negative\n",
      "Point (2.3, 4.7) is classified as negative\n",
      "Point (2.7, 4.6) is classified as positive\n"
     ]
    }
   ],
   "source": [
    "import numpy as np\n",
    "\n",
    "TRAINING_SET = {\n",
    "    (1, 4): 0,\n",
    "    (3, 3): 0,\n",
    "    (3, 1): 0,\n",
    "    (3, 6): 1,\n",
    "    (5, 3): 1,\n",
    "}\n",
    "\n",
    "TEST_POINTS = [(3.6, 4.1),\n",
    "               (3.9, 4.1),\n",
    "               (2.3, 4.7),\n",
    "               (2.7, 4.6)]\n",
    "\n",
    "def distance(p1, p2):\n",
    "    return np.linalg.norm(np.array(p1) - np.array(p2))\n",
    "\n",
    "def classify_point(point):\n",
    "    min_dist = None\n",
    "    closest = None\n",
    "    for example in TRAINING_SET.keys():\n",
    "        dist = distance(example, point)\n",
    "        if min_dist is None or dist < min_dist:\n",
    "            min_dist = dist\n",
    "            closest = example\n",
    "    return TRAINING_SET[closest]\n",
    "\n",
    "for point in TEST_POINTS:\n",
    "    classification = 'positive' if classify_point(point) == 1 else 'negative'\n",
    "    print('Point {} is classified as {}'.format(point, classification))"
   ]
  }
 ],
 "metadata": {
  "kernelspec": {
   "display_name": "Python 3",
   "language": "python",
   "name": "python3"
  },
  "language_info": {
   "codemirror_mode": {
    "name": "ipython",
    "version": 3
   },
   "file_extension": ".py",
   "mimetype": "text/x-python",
   "name": "python",
   "nbconvert_exporter": "python",
   "pygments_lexer": "ipython3",
   "version": "3.6.5"
  }
 },
 "nbformat": 4,
 "nbformat_minor": 2
}
