{
 "cells": [
  {
   "cell_type": "markdown",
   "metadata": {},
   "source": [
    "### Module 12: Machine Learning"
   ]
  },
  {
   "cell_type": "markdown",
   "metadata": {},
   "source": [
    "The first two questions involve the following dataset, which has two positive points (purple squares) and two negative points (green circles)."
   ]
  },
  {
   "cell_type": "code",
   "execution_count": 1,
   "metadata": {},
   "outputs": [
    {
     "data": {
      "image/gif": "[encoded data removed]",
      "text/plain": [
       "<IPython.core.display.Image object>"
      ]
     },
     "execution_count": 1,
     "metadata": {},
     "output_type": "execute_result"
    }
   ],
   "source": [
    "from IPython.display import Image\n",
    "Image(filename='svm.gif')"
   ]
  },
  {
   "cell_type": "markdown",
   "metadata": {},
   "source": [
    "That is, the training data set consists of:\n",
    "- (x1,y1) = ((5,4),+1)\n",
    "- (x2,y2) = ((8,3),+1)\n",
    "- (x3,y3) = ((7,2),-1)\n",
    "- (x4,y4) = ((3,3),-1)"
   ]
  },
  {
   "cell_type": "markdown",
   "metadata": {},
   "source": [
    "This data set is separable. If we call the horizontal axis of the space u and the vertical axis v, then a form of the decision boundary is v=c+au. Note that in this form, c is the intersection of the boundary with the vertical (v) axis, and a is the slope.\n",
    "\n",
    "In all cases, if (u,v) is one of the points x1 or x2, then the point will be above the boundary (that is, if x1 = (u,v), then v >= c+au, and similarly for x2). Likewise, x3 and x4 must be below the boundary.\n",
    "\n",
    "Various values of a and c could be chosen, but there are significant constraints on what a and c can be. Deduce those constraints."
   ]
  },
  {
   "cell_type": "code",
   "execution_count": null,
   "metadata": {},
   "outputs": [],
   "source": [
    "points = [(5, 4),\n",
    "          (8, 3),\n",
    "          (3, 3),\n",
    "          (7, 2)]\n",
    "\n",
    "for u, v in points:"
   ]
  },
  {
   "cell_type": "markdown",
   "metadata": {},
   "source": [
    "Our goal is to find the maximum-margin linear classifier for this data. In easy cases, the shortest line between a positive and negative point has a perpendicular bisector that separates the points. If so, the perpendicular bisector is surely the maximum-margin separator. Alas, in this case, the closest pair of positive and negative points, x2 and x3, have a perpendicular bisector that misclassifies x1 as negative, so that won't work.\n",
    "\n",
    "The next-best possibility is that we can find a pair of points on one side (i.e., either two positive or two negative points) such that a line parallel to the line through these points is the maximum-margin separator. In these cases, the limit to how far from the two points the parallel line can get is determined by the closest (to the line between the two points) of the points on the other side. For our simple data set, this situation holds.\n",
    "\n",
    "Consider all possibilities for boundaries of this type, and express the boundary as w.x+b=0, such that w.x+b>=1 for positive points x and w.x+b<=-1 for negative points x. Assume that w = (w1,w2)."
   ]
  },
  {
   "cell_type": "code",
   "execution_count": null,
   "metadata": {},
   "outputs": [],
   "source": []
  },
  {
   "cell_type": "markdown",
   "metadata": {},
   "source": [
    "Below we see a set of 20 points and a decision tree for classifying the points."
   ]
  },
  {
   "cell_type": "code",
   "execution_count": 4,
   "metadata": {},
   "outputs": [
    {
     "data": {
      "image/gif": "[encoded data removed]",
      "text/plain": [
       "<IPython.core.display.Image object>"
      ]
     },
     "execution_count": 4,
     "metadata": {},
     "output_type": "execute_result"
    }
   ],
   "source": [
    "Image(filename='grid.gif')"
   ]
  },
  {
   "cell_type": "code",
   "execution_count": 5,
   "metadata": {},
   "outputs": [
    {
     "data": {
      "image/gif": "[encoded data removed]",
      "text/plain": [
       "<IPython.core.display.Image object>"
      ]
     },
     "execution_count": 5,
     "metadata": {},
     "output_type": "execute_result"
    }
   ],
   "source": [
    "Image(filename='tree.gif')"
   ]
  },
  {
   "cell_type": "markdown",
   "metadata": {},
   "source": [
    "To be precise, the 20 points represent (Age,Salary) pairs of people who do or do not buy gold jewelry. Age (abbreviated A in the decision tree) is the x-axis, and Salary (S in the tree) is the y-axis. Those that do are represented by gold points, and those that do not by green points. The 10 points of gold-jewelry buyers are:\n",
    "(28,145), (38,115), (43,83), (50,130), (50,90), (50,60), (50,30), (55,118), (63,88), and (65,140).\n",
    "\n",
    "The 10 points of those that do not buy gold jewelry are:\n",
    "(23,40), (25,125), (29,97), (33,22), (35,63), (42,57), (44, 105), (55,63), (55,20), and (64,37).\n",
    "\n",
    "Some of these points are correctly classified by the decision tree and some are not. Determine the classification of each point"
   ]
  },
  {
   "cell_type": "code",
   "execution_count": 7,
   "metadata": {},
   "outputs": [
    {
     "name": "stdout",
     "output_type": "stream",
     "text": [
      "Person (43, 83) is actually not a buyer.\n",
      "Person (50, 60) is actually not a buyer.\n",
      "Person (50, 30) is actually not a buyer.\n",
      "Person　(25, 125) is actually a buyer\n"
     ]
    }
   ],
   "source": [
    "buyers = [(28, 145),\n",
    "          (38, 115),\n",
    "          (43,  83),\n",
    "          (50, 130),\n",
    "          (50,  90),\n",
    "          (50,  60),\n",
    "          (50,  30),\n",
    "          (55, 118),\n",
    "          (63,  88),\n",
    "          (65, 140)]\n",
    "\n",
    "non_buyers = [(23,  40),\n",
    "              (25, 125),\n",
    "              (29,  97),\n",
    "              (33,  22),\n",
    "              (35,  63),\n",
    "              (42,  57),\n",
    "              (44, 105),\n",
    "              (55,  63),\n",
    "              (55,  20),\n",
    "              (64,  37)]\n",
    "\n",
    "def is_buyer(point):\n",
    "    age, salary = point\n",
    "    if age < 45:\n",
    "        if salary < 110:\n",
    "            return False\n",
    "        return True\n",
    "    else:\n",
    "        if salary < 75:\n",
    "            return False\n",
    "        return True\n",
    "    \n",
    "for buyer in buyers:\n",
    "    if not is_buyer(buyer):\n",
    "        print('Person {} is actually not a buyer.'.format(buyer))\n",
    "for non_buyer in non_buyers:\n",
    "    if is_buyer(non_buyer):\n",
    "        print('Person　{} is actually a buyer'.format(non_buyer))"
   ]
  },
  {
   "cell_type": "markdown",
   "metadata": {},
   "source": [
    "Consider the process of building a binary classifier based on a decision-tree model using the Gini Index as a measure of impurity associated with a tree node that represents a subset of training examples. A node is split into partitions represented by its child nodes based on the values of a selected attribute. The goodness of the attribute for the split, referred to as gain of the attribute, is estimated in terms of the difference between the impurity of the parent node and the weighted sum of the impurities of the child nodes.\n",
    "\n",
    "Consider the training set of examples described in terms of three attributes A1, A2 and A3 in addition to the decision attribute, Class Label."
   ]
  },
  {
   "cell_type": "code",
   "execution_count": 6,
   "metadata": {},
   "outputs": [
    {
     "data": {
      "image/png": "[encoded data removed]",
      "text/plain": [
       "<IPython.core.display.Image object>"
      ]
     },
     "execution_count": 6,
     "metadata": {},
     "output_type": "execute_result"
    }
   ],
   "source": [
    "Image(filename='examples.png')"
   ]
  },
  {
   "cell_type": "markdown",
   "metadata": {},
   "source": [
    "The first three columns of the table represent the values of the three binary attributes and the last column indicates whether the element (described by the row) is a positive example of the class or not (+ indicates a positive example). The classifier aims at classifying the training examples into positive or negative examples of the class under consideration.\n",
    "\n",
    "Estimate the goodness of the attributes for splitting the training set given in the table."
   ]
  },
  {
   "cell_type": "code",
   "execution_count": null,
   "metadata": {},
   "outputs": [],
   "source": [
    "examples = [(False, False, False, 1),\n",
    "            (False, False,  True, 1),\n",
    "            (False,  True, False, 0),\n",
    "            (False,  True,  True, 0),\n",
    "            ( True, False, False, 1),\n",
    "            ( True, False,  True, 1),\n",
    "            ( True,  True, False, 1),\n",
    "            ( True,  True,  True, 0)]\n",
    "\n",
    "for example in examples:\n",
    "    A1, A2, A3, result = example\n",
    "    "
   ]
  },
  {
   "cell_type": "markdown",
   "metadata": {},
   "source": [
    "Suppose our training set consists of the three negative points (1,4), (3,3), and (3,1) and the two positive points (3,6) and (5,3). If we use nearest-neighbor learning, where we classify a point to be in the class of the nearest member of the training set, what is the boundary between the positive and negative points?"
   ]
  },
  {
   "cell_type": "code",
   "execution_count": 14,
   "metadata": {},
   "outputs": [
    {
     "name": "stdout",
     "output_type": "stream",
     "text": [
      "Point (3.9, 4.1) is classified as negative\n",
      "Point (2.2, 4.7) is classified as negative\n",
      "Point (2.6, 4.4) is classified as negative\n",
      "Point (4.1, 4.1) is classified as positive\n"
     ]
    }
   ],
   "source": [
    "import numpy as np\n",
    "\n",
    "TRAINING_SET = {\n",
    "    (1, 4): 0,\n",
    "    (3, 3): 0,\n",
    "    (3, 1): 0,\n",
    "    (3, 6): 1,\n",
    "    (5, 3): 1,\n",
    "}\n",
    "\n",
    "TEST_POINTS = [(3.9, 4.1),\n",
    "               (2.2, 4.7),\n",
    "               (2.6, 4.4),\n",
    "               (4.1, 4.1)]\n",
    "\n",
    "def distance(p1, p2):\n",
    "    return np.linalg.norm(np.array(p1) - np.array(p2))\n",
    "\n",
    "def classify_point(point):\n",
    "    min_dist = None\n",
    "    closest = None\n",
    "    for example in TRAINING_SET.keys():\n",
    "        dist = distance(example, point)\n",
    "        if min_dist is None or dist < min_dist:\n",
    "            min_dist = dist\n",
    "            closest = example\n",
    "    return TRAINING_SET[closest]\n",
    "\n",
    "for point in TEST_POINTS:\n",
    "    classification = 'positive' if classify_point(point) == 1 else 'negative'\n",
    "    print('Point {} is classified as {}'.format(point, classification))"
   ]
  }
 ],
 "metadata": {
  "kernelspec": {
   "display_name": "Python 3",
   "language": "python",
   "name": "python3"
  },
  "language_info": {
   "codemirror_mode": {
    "name": "ipython",
    "version": 3
   },
   "file_extension": ".py",
   "mimetype": "text/x-python",
   "name": "python",
   "nbconvert_exporter": "python",
   "pygments_lexer": "ipython3",
   "version": "3.6.5"
  }
 },
 "nbformat": 4,
 "nbformat_minor": 2
}
